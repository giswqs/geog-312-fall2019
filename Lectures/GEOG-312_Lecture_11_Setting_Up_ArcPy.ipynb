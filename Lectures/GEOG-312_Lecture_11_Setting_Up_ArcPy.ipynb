{
 "cells": [
  {
   "cell_type": "markdown",
   "metadata": {},
   "source": [
    "# Lecture 11 - Setting Up ArcPy on Apps@UT\n",
    "\n",
    "* Website: https://gishub.org/geog-312  \n",
    "* Instructor: [Qiusheng Wu](https://wetlands.io)\n",
    "* [Jupyter Notebook Tips and Tricks](http://bit.ly/34embJh)\n",
    "* [Markdown Cheatsheet](http://bit.ly/2UkNVXV)\n",
    "* Magic command to list all variables: `%whos`\n",
    "\n",
    "## Steps\n",
    "* [Access Apps@UT](https://apps.utk.edu/vpn/index.html) and login with your NetID and password\n",
    "* Click **ArcMap 10.7** from the Apps list\n",
    "* ArcMap -- File -- Open\n",
    "* Select any folder in the popup dialogue and right click and select **Open in new window**\n",
    "* Type **cmd** into the Windows Explorer Address Bar and hit Enter\n",
    "* Type **start iexplore** into the Command Prompt and hit Enter\n",
    "* Type <https://arcgis.me/vscode> into IE11 and hit Enter\n",
    "* Select ‘Save as’ and navigate to **H:\\** drive and save the file\n",
    "* Double click the downloaded exe to install it. Make sure you change the default installation directory from * ‘C:\\portapps\\vscode-portable’ to **H:\\vscode-portable**\n",
    "* Navigate to H:\\vscode-portable and double click **vscode-portable** to launch it\n",
    "* Install the Python extension for Visual Studio Code"
   ]
  },
  {
   "cell_type": "markdown",
   "metadata": {},
   "source": [
    "# How to configure Jupyter Notebook for ArcGIS?\n",
    "\n",
    "* Download Anaconda **32-bit** Python 3.7 version (https://www.anaconda.com/download/#windows)\n",
    "* Install Anaconda 32-bit to **C:\\Anaconda3**\n",
    "* Add Anaconda to Windows system PATH (Control Panel - System and Security - System - Advanced system settings - Advanced Tab - Environment Variables - System variables -  Double click Path variable - New - Add C:\\Anaconda3\\Scripts to Path variable) - OK\n",
    "* Open ArcGIS Python Windows (ArcMap -- Geoprocessing -- Python)\n",
    "* To find out the versions of Python and relevant packages ArcGIS is using, enter the following commands in the Python Window. Alternatively, you can go to this [webpage](https://support.esri.com/en/technical-article/000013224) to check the Python and numpy version for your ArcGIS Desktop. Record the version numbers for Python and numpy.\n",
    "* `import sys, numpy\n",
    "print(sys.version, numpy.__version__)`\n",
    "* Windows 10 Start Menu -- Anaconda3 (32-bit) -- Anaconda Prompt\n",
    "* conda create -n arcgis python=2.7.16 numpy=1.9.3  \n",
    "* conda activate arcgis\n",
    "* conda install notebook ipykernel\n",
    "* pip install archook\n",
    "* ipython kernel install --user --name=\"arcgis\"\n",
    "* Windows 10 Start Menu -- Anaconda3 (32-bit) -- Jupyter Notebook (arcgis)\n",
    "* Run the following Python script to Jupyter Notebook and run the script to see if you get any errors.  "
   ]
  },
  {
   "cell_type": "code",
   "execution_count": 1,
   "metadata": {},
   "outputs": [],
   "source": [
    "try:\n",
    "    import archook #The module which locates arcgis\n",
    "    archook.get_arcpy()\n",
    "    import arcpy\n",
    "except ImportError:\n",
    "    print(\"import arcpy error\")"
   ]
  },
  {
   "cell_type": "code",
   "execution_count": 2,
   "metadata": {},
   "outputs": [
    {
     "name": "stdout",
     "output_type": "stream",
     "text": [
      "SourceDir     : C:\\Users\\Qiusheng\\Documents\\ArcGIS 10.7.1\\Desktop\\SetupFiles\\\n",
      "InstallDate   : 8/28/2019\n",
      "InstallDir    : c:\\program files (x86)\\arcgis\\desktop10.7\\\n",
      "ProductName   : Desktop\n",
      "BuildNumber   : 11595\n",
      "InstallType   : N/A\n",
      "Version       : 10.7.1\n",
      "SPNumber      : N/A\n",
      "Installer     : Qiusheng\n",
      "SPBuild       : N/A\n",
      "InstallTime   : 14:28:13\n"
     ]
    }
   ],
   "source": [
    "d = arcpy.GetInstallInfo()\n",
    "for key, value in list(d.items()):\n",
    "    # Print a formatted string of the install key and its value\n",
    "    #\n",
    "    print(\"{:<13} : {}\".format(key, value))"
   ]
  },
  {
   "cell_type": "code",
   "execution_count": 3,
   "metadata": {},
   "outputs": [
    {
     "name": "stdout",
     "output_type": "stream",
     "text": [
      "10.7.1\n"
     ]
    }
   ],
   "source": [
    "print(arcpy.GetInstallInfo()['Version'])"
   ]
  }
 ],
 "metadata": {
  "kernelspec": {
   "display_name": "arcgis",
   "language": "python",
   "name": "arcgis"
  },
  "language_info": {
   "codemirror_mode": {
    "name": "ipython",
    "version": 2
   },
   "file_extension": ".py",
   "mimetype": "text/x-python",
   "name": "python",
   "nbconvert_exporter": "python",
   "pygments_lexer": "ipython2",
   "version": "2.7.16"
  }
 },
 "nbformat": 4,
 "nbformat_minor": 2
}
