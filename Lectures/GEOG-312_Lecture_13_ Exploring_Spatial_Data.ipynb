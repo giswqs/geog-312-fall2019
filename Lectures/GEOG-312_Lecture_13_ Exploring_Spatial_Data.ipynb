{
 "cells": [
  {
   "cell_type": "markdown",
   "metadata": {
    "collapsed": true
   },
   "source": [
    "# Lecture 13 - Exploring Spatial Data\n",
    "* Website: https://gishub.org/geog-312  \n",
    "* Instructor: [Qiusheng Wu](https://wetlands.io)\n",
    "* [Jupyter Notebook Tips and Tricks](http://bit.ly/34embJh)\n",
    "* [Markdown Cheatsheet](http://bit.ly/2UkNVXV)\n",
    "* Magic command to list all variables: `%whos`"
   ]
  },
  {
   "cell_type": "markdown",
   "metadata": {},
   "source": [
    "## Data\n",
    "* https://github.com/giswqs/geog-312/raw/gh-pages/Lectures/data/lecture13_data.zip"
   ]
  },
  {
   "cell_type": "markdown",
   "metadata": {},
   "source": [
    "## Checking for the Existence of Data\n",
    "\n",
    "* **Two types of paths**\n",
    "    - System paths\n",
    "    - Catalog paths\n",
    "* **General syntax**\n",
    "    - os.path.exists(<dataset>)\n",
    "    - arcpy.Exists(<dataset>)\n"
   ]
  },
  {
   "cell_type": "code",
   "execution_count": null,
   "metadata": {},
   "outputs": [],
   "source": [
    "try:\n",
    "    import archook #The module which locates arcgis\n",
    "    archook.get_arcpy()\n",
    "    import arcpy\n",
    "except ImportError:\n",
    "    print(\"import arcpy error\")"
   ]
  },
  {
   "cell_type": "code",
   "execution_count": 1,
   "metadata": {},
   "outputs": [
    {
     "data": {
      "text/plain": [
       "True"
      ]
     },
     "execution_count": 1,
     "metadata": {},
     "output_type": "execute_result"
    }
   ],
   "source": [
    "import os\n",
    "data_dir = os.path.join(os.getcwd(), 'data')\n",
    "file_path = os.path.join(data_dir, 'cities.shp')\n",
    "os.path.exists(file_path)"
   ]
  },
  {
   "cell_type": "code",
   "execution_count": 2,
   "metadata": {},
   "outputs": [
    {
     "data": {
      "text/plain": [
       "True"
      ]
     },
     "execution_count": 2,
     "metadata": {},
     "output_type": "execute_result"
    }
   ],
   "source": [
    "import arcpy\n",
    "data_dir = os.path.join(os.getcwd(), 'data')\n",
    "file_path = os.path.join(data_dir, 'cities.shp')\n",
    "arcpy.Exists(file_path)"
   ]
  },
  {
   "cell_type": "code",
   "execution_count": 3,
   "metadata": {},
   "outputs": [
    {
     "data": {
      "text/plain": [
       "False"
      ]
     },
     "execution_count": 3,
     "metadata": {},
     "output_type": "execute_result"
    }
   ],
   "source": [
    "import os\n",
    "data_dir = os.path.join(os.getcwd(), 'data')\n",
    "file_path = os.path.join(data_dir, 'testdata.gdb/buffers_poly')\n",
    "os.path.exists(file_path)"
   ]
  },
  {
   "cell_type": "code",
   "execution_count": 4,
   "metadata": {},
   "outputs": [
    {
     "name": "stdout",
     "output_type": "stream",
     "text": [
      "/media/hdd/Dropbox/git/teaching/geog-312/Lectures/data/testdata.gdb/buffers_poly\n"
     ]
    },
    {
     "data": {
      "text/plain": [
       "True"
      ]
     },
     "execution_count": 4,
     "metadata": {},
     "output_type": "execute_result"
    }
   ],
   "source": [
    "import os, arcpy\n",
    "data_dir = os.path.join(os.getcwd(), 'data')\n",
    "file_path = os.path.join(data_dir, 'testdata.gdb/buffers_poly')\n",
    "print(file_path)\n",
    "arcpy.Exists(file_path)"
   ]
  },
  {
   "cell_type": "markdown",
   "metadata": {},
   "source": [
    "## Describing Data\n",
    "\n",
    "* **The Describe function is used to determine properties of dataset**\n",
    "* **General syntax**\n",
    "    - import arcpy\n",
    "    - < variable> = arcpy.Describe(< input dataset>)\n",
    "* **Online help**\n",
    "    - <http://desktop.arcgis.com/en/arcmap/latest/analyze/arcpy-functions/describe.htm>\n"
   ]
  },
  {
   "cell_type": "code",
   "execution_count": 5,
   "metadata": {},
   "outputs": [
    {
     "name": "stdout",
     "output_type": "stream",
     "text": [
      "ShapeFile\n",
      "Point\n"
     ]
    }
   ],
   "source": [
    "import arcpy\n",
    "file_path = os.path.join(os.getcwd(), 'data/cities.shp')\n",
    "desc = arcpy.Describe(file_path)\n",
    "print(desc.datatype)\n",
    "print(desc.shapeType)"
   ]
  },
  {
   "cell_type": "code",
   "execution_count": 6,
   "metadata": {},
   "outputs": [
    {
     "name": "stdout",
     "output_type": "stream",
     "text": [
      "Clip analysis run successfully.\n"
     ]
    }
   ],
   "source": [
    "import arcpy\n",
    "arcpy.env.workspace = os.path.join(os.getcwd(), 'data')\n",
    "arcpy.env.overwriteOutput = True\n",
    "infc = \"railroads.shp\"\n",
    "clipfc = \"new_mexico.shp\"\n",
    "# clipfc = \"cities.shp\"\n",
    "outfc = \"Results/railroads_clip.shp\"\n",
    "desc = arcpy.Describe(clipfc)\n",
    "type = desc.shapeType\n",
    "if type == \"Polygon\":\n",
    "    arcpy.Clip_analysis(infc, clipfc, outfc)\n",
    "    print(\"Clip analysis run successfully.\")\n",
    "else:\n",
    "    print(\"The clip features are not polygons.\")"
   ]
  },
  {
   "cell_type": "markdown",
   "metadata": {},
   "source": [
    "## Display shapefiles in Jupyter Notebook\n",
    "\n",
    "* use geopandas\n",
    "* https://www.linkedin.com/pulse/using-geopandas-display-shapefiles-jupyter-notebooks-andrew-cutts\n",
    "* http://geopandas.org/mapping.html"
   ]
  },
  {
   "cell_type": "markdown",
   "metadata": {},
   "source": [
    "### How to install the geopandas package\n",
    "Open Anaconda Prompt and enter the following commands\n",
    "* `conda activate arcgis`\n",
    "* `pip install -y geopandas descartes`"
   ]
  },
  {
   "cell_type": "code",
   "execution_count": 7,
   "metadata": {},
   "outputs": [],
   "source": [
    "import geopandas as gpd"
   ]
  },
  {
   "cell_type": "code",
   "execution_count": 8,
   "metadata": {},
   "outputs": [],
   "source": [
    "import os\n",
    "workspace = os.path.join(os.getcwd(), 'data')"
   ]
  },
  {
   "cell_type": "code",
   "execution_count": 9,
   "metadata": {},
   "outputs": [],
   "source": [
    "railroads = gpd.read_file(os.path.join(workspace, 'railroads.shp'))\n",
    "new_mexico = gpd.read_file(os.path.join(workspace, 'new_mexico.shp'))\n",
    "railroads_clip = gpd.read_file(os.path.join(workspace, 'Results/railroads_clip.shp'))"
   ]
  },
  {
   "cell_type": "code",
   "execution_count": 10,
   "metadata": {},
   "outputs": [
    {
     "name": "stdout",
     "output_type": "stream",
     "text": [
      "   FNODE_  TNODE_    LENGTH  RAILRDL020  \\\n",
      "0    4746    4747  0.557005        5898   \n",
      "1    4878    4877  0.337298        6036   \n",
      "2    4924    4925  0.259129        6089   \n",
      "3    5096    4925  1.256210        6310   \n",
      "4    5127    5096  0.225848        6346   \n",
      "\n",
      "                                           RROWNER1 RROWNER2 RROWNER3 MARK1  \\\n",
      "0  Burlington Northern and Santa Fe Railway Company     None     None  BNSF   \n",
      "1  Burlington Northern and Santa Fe Railway Company     None     None  BNSF   \n",
      "2           Santa Fe Southern Railway, Incorporated     None     None   SFS   \n",
      "3  Burlington Northern and Santa Fe Railway Company     None     None  BNSF   \n",
      "4  Burlington Northern and Santa Fe Railway Company     None     None  BNSF   \n",
      "\n",
      "  MARK2 MARK3                                           geometry  \n",
      "0  None  None  LINESTRING (-104.91429 36.85652, -104.91394 36...  \n",
      "1  None  None  LINESTRING (-108.88889 35.49603, -108.88841 35...  \n",
      "2  None  None  LINESTRING (-105.95210 35.67880, -105.95290 35...  \n",
      "3  None  None  LINESTRING (-106.69830 34.90690, -106.69680 34...  \n",
      "4  None  None  LINESTRING (-106.85830 34.77308, -106.85694 34...  \n"
     ]
    }
   ],
   "source": [
    "print(railroads_clip.head())"
   ]
  },
  {
   "cell_type": "code",
   "execution_count": 11,
   "metadata": {},
   "outputs": [
    {
     "name": "stdout",
     "output_type": "stream",
     "text": [
      "     AREA  PERIMETER  STATESP020       STATE STATE_FIPS  ORDER_ADM MONTH_ADM  \\\n",
      "0  30.888     23.674        1905  New Mexico         35         47   January   \n",
      "\n",
      "   DAY_ADM  YEAR_ADM                                           geometry  \n",
      "0        6      1912  POLYGON ((-109.04488 36.99863, -108.53622 36.9...  \n"
     ]
    }
   ],
   "source": [
    "print(new_mexico.head())"
   ]
  },
  {
   "cell_type": "code",
   "execution_count": 12,
   "metadata": {},
   "outputs": [
    {
     "data": {
      "text/plain": [
       "<matplotlib.axes._subplots.AxesSubplot at 0x7fa5b965ca90>"
      ]
     },
     "execution_count": 12,
     "metadata": {},
     "output_type": "execute_result"
    },
    {
     "data": {
      "image/png": "[encoded data removed]",
      "text/plain": [
       "<Figure size 432x288 with 1 Axes>"
      ]
     },
     "metadata": {
      "needs_background": "light"
     },
     "output_type": "display_data"
    }
   ],
   "source": [
    "# magic command to display plots within Jupyter Notebook\n",
    "%matplotlib inline  \n",
    "railroads.plot()"
   ]
  },
  {
   "cell_type": "code",
   "execution_count": 13,
   "metadata": {
    "scrolled": true
   },
   "outputs": [
    {
     "data": {
      "text/plain": [
       "<matplotlib.axes._subplots.AxesSubplot at 0x7fa5aeba4a90>"
      ]
     },
     "execution_count": 13,
     "metadata": {},
     "output_type": "execute_result"
    },
    {
     "data": {
      "image/png": "[encoded data removed]",
      "text/plain": [
       "<Figure size 432x288 with 1 Axes>"
      ]
     },
     "metadata": {
      "needs_background": "light"
     },
     "output_type": "display_data"
    }
   ],
   "source": [
    "new_mexico.plot()"
   ]
  },
  {
   "cell_type": "code",
   "execution_count": 14,
   "metadata": {},
   "outputs": [
    {
     "data": {
      "text/plain": [
       "<matplotlib.axes._subplots.AxesSubplot at 0x7fa5aeb0b550>"
      ]
     },
     "execution_count": 14,
     "metadata": {},
     "output_type": "execute_result"
    },
    {
     "data": {
      "image/png": "[encoded data removed]",
      "text/plain": [
       "<Figure size 432x288 with 1 Axes>"
      ]
     },
     "metadata": {
      "needs_background": "light"
     },
     "output_type": "display_data"
    }
   ],
   "source": [
    "railroads_clip.plot()"
   ]
  },
  {
   "cell_type": "code",
   "execution_count": 15,
   "metadata": {},
   "outputs": [
    {
     "data": {
      "text/plain": [
       "<matplotlib.axes._subplots.AxesSubplot at 0x7fa5aead3898>"
      ]
     },
     "execution_count": 15,
     "metadata": {},
     "output_type": "execute_result"
    },
    {
     "data": {
      "image/png": "[encoded data removed]",
      "text/plain": [
       "<Figure size 432x288 with 1 Axes>"
      ]
     },
     "metadata": {
      "needs_background": "light"
     },
     "output_type": "display_data"
    }
   ],
   "source": [
    "base = new_mexico.plot(color='white', edgecolor='black')\n",
    "railroads_clip.plot(ax=base)"
   ]
  },
  {
   "cell_type": "markdown",
   "metadata": {},
   "source": [
    "## The Describe function\n",
    "\n",
    "* Describe function will always return a **Describe object**\n",
    "* The Describe function returns a set of **generic properties** for all Describe objects.\n",
    "\n",
    "![](https://wetlands.io/file/teaching/geog-503/images/describe_function.png)"
   ]
  },
  {
   "cell_type": "markdown",
   "metadata": {
    "collapsed": true
   },
   "source": [
    "* **Generic Describe Object Properties**\n",
    "\n",
    "![](https://wetlands.io/file/teaching/geog-503/images/generic_describe_props.png)"
   ]
  },
  {
   "cell_type": "code",
   "execution_count": 16,
   "metadata": {},
   "outputs": [
    {
     "name": "stdout",
     "output_type": "stream",
     "text": [
      "baseName:    cities\n",
      "catalogPath: /media/hdd/Dropbox/git/teaching/geog-312/Lectures/data/cities.shp\n",
      "file:        cities.shp\n",
      "name:        cities.shp\n",
      "path:        /media/hdd/Dropbox/git/teaching/geog-312/Lectures/data\n",
      "dataType:    ShapeFile\n",
      "extension:   shp\n"
     ]
    }
   ],
   "source": [
    "import arcpy\n",
    "data = os.path.join(os.getcwd(), 'data/cities.shp')\n",
    "desc = arcpy.Describe(data)\n",
    "print(\"baseName:    {}\".format(desc.baseName))\n",
    "print(\"catalogPath: {}\".format(desc.catalogPath))\n",
    "print(\"file:        {}\".format(desc.file))\n",
    "print(\"name:        {}\".format(desc.name))\n",
    "print(\"path:        {}\".format(desc.path))\n",
    "print(\"dataType:    {}\".format(desc.dataType))\n",
    "print(\"extension:   {}\".format(desc.extension))"
   ]
  },
  {
   "cell_type": "markdown",
   "metadata": {},
   "source": [
    "## Feature class Describe properties\n",
    "\n",
    "![](https://wetlands.io/file/teaching/geog-503/images/fc_desc_props.png)"
   ]
  },
  {
   "cell_type": "markdown",
   "metadata": {},
   "source": [
    "### Feature Class properties\n",
    "\n",
    "* <http://desktop.arcgis.com/en/arcmap/latest/analyze/arcpy-functions/featureclass-properties.htm>\n",
    "\n",
    "![](https://wetlands.io/file/teaching/geog-503/images/fc_props.png)"
   ]
  },
  {
   "cell_type": "code",
   "execution_count": 17,
   "metadata": {},
   "outputs": [
    {
     "name": "stdout",
     "output_type": "stream",
     "text": [
      "Feature Type:  Simple\n",
      "Shape Type :   Point\n",
      "Spatial Index: True\n"
     ]
    }
   ],
   "source": [
    "import arcpy\n",
    "\n",
    "# Create a Describe object from the feature class\n",
    "data = os.path.join(os.getcwd(), 'data/cities.shp')\n",
    "desc = arcpy.Describe(data)\n",
    "\n",
    "# Print some feature class properties\n",
    "print(\"Feature Type:  {}\".format(desc.featureType))\n",
    "print(\"Shape Type :   {}\".format(desc.shapeType))\n",
    "print(\"Spatial Index: {}\".format(desc.hasSpatialIndex))"
   ]
  },
  {
   "cell_type": "markdown",
   "metadata": {},
   "source": [
    "### Table properties\n",
    "\n",
    "* <http://desktop.arcgis.com/en/arcmap/latest/analyze/arcpy-functions/table-properties.htm>\n",
    "\n",
    "![](https://wetlands.io/file/teaching/geog-503/images/table_props.png)"
   ]
  },
  {
   "cell_type": "code",
   "execution_count": 18,
   "metadata": {},
   "outputs": [
    {
     "name": "stdout",
     "output_type": "stream",
     "text": [
      "OIDFieldName: FID\n",
      "FID                    : OID\n",
      "Shape                  : Geometry\n",
      "CITIESX020             : Double\n",
      "FEATURE                : String\n",
      "NAME                   : String\n",
      "POP_RANGE              : String\n",
      "POP_2000               : Integer\n",
      "FIPS55                 : String\n",
      "COUNTY                 : String\n",
      "FIPS                   : String\n",
      "STATE                  : String\n",
      "STATE_FIPS             : String\n",
      "DISPLAY                : SmallInteger\n"
     ]
    }
   ],
   "source": [
    "import arcpy\n",
    "# Create a Describe object from the table.\n",
    "data = os.path.join(os.getcwd(), 'data/cities.shp')\n",
    "desc = arcpy.Describe(data)\n",
    "# If the table has an OID, print the OID field name\n",
    "if desc.hasOID:\n",
    "    print(\"OIDFieldName: {}\".format(desc.OIDFieldName))\n",
    "# Print the names and types of all the fields in the table\n",
    "for field in desc.fields:\n",
    "    print(\"{:22} : {}\".format(field.name,field.type))"
   ]
  },
  {
   "cell_type": "markdown",
   "metadata": {},
   "source": [
    "### Dataset properties\n",
    "\n",
    "* <http://desktop.arcgis.com/en/arcmap/latest/analyze/arcpy-functions/dataset-properties.htm>\n",
    "\n",
    "![](https://wetlands.io/file/teaching/geog-503/images/dataset_props.png)"
   ]
  },
  {
   "cell_type": "code",
   "execution_count": 19,
   "metadata": {},
   "outputs": [
    {
     "name": "stdout",
     "output_type": "stream",
     "text": [
      "Dataset Type: FeatureClass\n",
      "Extent:\n",
      "  XMin: -109.05010223388672, XMax: -103.00065612792969, YMin: 31.331899642944336, YMax: 36.99942398071289\n",
      "Spatial reference name: GCS_North_American_1983:\n"
     ]
    }
   ],
   "source": [
    "import arcpy\n",
    "data = os.path.join(os.getcwd(), 'data/new_mexico.shp')\n",
    "desc = arcpy.Describe(data)\n",
    "print(\"Dataset Type: {0}\".format(desc.datasetType))\n",
    "print(\"Extent:\\n  XMin: {0}, XMax: {1}, YMin: {2}, YMax: {3}\".format(\n",
    "    desc.extent.XMin, desc.extent.XMax, desc.extent.YMin, desc.extent.YMax))\n",
    "print(\"Spatial reference name: {0}:\".format(desc.spatialReference.name))"
   ]
  },
  {
   "cell_type": "markdown",
   "metadata": {},
   "source": [
    "### Raster Describe properties\n",
    "\n",
    "![](https://wetlands.io/file/teaching/geog-503/images/raster_desc.png)"
   ]
  },
  {
   "cell_type": "markdown",
   "metadata": {},
   "source": [
    "### Raster Dataset properties\n",
    "\n",
    "* <http://desktop.arcgis.com/en/arcmap/latest/analyze/arcpy-functions/raster-dataset-properties.htm>\n",
    "\n",
    "![](https://wetlands.io/file/teaching/geog-503/images/raster_dataset_props.png)"
   ]
  },
  {
   "cell_type": "code",
   "execution_count": 20,
   "metadata": {},
   "outputs": [
    {
     "name": "stdout",
     "output_type": "stream",
     "text": [
      "bandCount:           1\n",
      "compressionType:     NONE\n",
      "format:              FGDBR\n"
     ]
    }
   ],
   "source": [
    "import arcpy\n",
    "data = os.path.join(os.getcwd(), 'data/testdata.gdb/ElevationFloat')\n",
    "desc = arcpy.Describe(data)\n",
    "print(\"{:20} {}\".format(\"bandCount:\",desc.bandCount))\n",
    "print(\"{:20} {}\".format(\"compressionType:\",desc.compressionType))\n",
    "print(\"{:20} {}\".format(\"format:\",desc.format))"
   ]
  },
  {
   "cell_type": "markdown",
   "metadata": {},
   "source": [
    "### Raster Band properties\n",
    "\n",
    "* <http://desktop.arcgis.com/en/arcmap/latest/analyze/arcpy-functions/raster-band-properties.htm>\n",
    "\n",
    "![](https://wetlands.io/file/teaching/geog-503/images/raster_band_props.png)"
   ]
  },
  {
   "cell_type": "code",
   "execution_count": 21,
   "metadata": {},
   "outputs": [
    {
     "name": "stdout",
     "output_type": "stream",
     "text": [
      "height:         207\n",
      "width:          233\n",
      "pixelType:      F32\n",
      "isInteger:      False\n"
     ]
    }
   ],
   "source": [
    "import arcpy\n",
    "data = os.path.join(os.getcwd(), 'data/testdata.gdb/ElevationFloat')\n",
    "desc = arcpy.Describe(data)\n",
    "print(\"{:15} {}\".format(\"height: \", desc.height))\n",
    "print(\"{:15} {}\".format(\"width:\", desc.width))\n",
    "print(\"{:15} {}\".format(\"pixelType:\", desc.pixelType))\n",
    "print(\"{:15} {}\".format(\"isInteger:\", desc.isInteger))"
   ]
  },
  {
   "cell_type": "markdown",
   "metadata": {},
   "source": [
    "## Describing Data: Example"
   ]
  },
  {
   "cell_type": "code",
   "execution_count": 22,
   "metadata": {
    "scrolled": true
   },
   "outputs": [
    {
     "name": "stdout",
     "output_type": "stream",
     "text": [
      "Data type:      FeatureClass\n",
      "File path:      /media/hdd/Dropbox/git/teaching/geog-312/Lectures/data/testdata.gdb\n",
      "Catalog path:   /media/hdd/Dropbox/git/teaching/geog-312/Lectures/data/testdata.gdb/buffers_poly\n",
      "File name:      buffers_poly\n",
      "Base name:      buffers_poly\n",
      "Name:           buffers_poly\n"
     ]
    }
   ],
   "source": [
    "import arcpy\n",
    "arcpy.env.workspace = os.path.join(os.getcwd(), \"data/testdata.gdb\")\n",
    "element = \"buffers_poly\"\n",
    "desc = arcpy.Describe(element)\n",
    "print(\"{:15} {}\".format(\"Data type: \", desc.dataType))\n",
    "print(\"{:15} {}\".format(\"File path: \", desc.path))\n",
    "print(\"{:15} {}\".format(\"Catalog path: \", desc.catalogPath))\n",
    "print(\"{:15} {}\".format(\"File name: \", desc.file))\n",
    "print(\"{:15} {}\".format(\"Base name: \",desc.baseName))\n",
    "print(\"{:15} {}\".format(\"Name: \", desc.name))"
   ]
  },
  {
   "cell_type": "markdown",
   "metadata": {},
   "source": [
    "## Describing a feature class and raster\n",
    "\n",
    "You can use the Describe object **dataType** property to determine what is being described. Some of the values returned by the **dataType** property include:\n",
    "\n",
    "* FeatureLayer\n",
    "* FeatureClass\n",
    "* File\n",
    "* Folder\n",
    "* LasDataset\n",
    "* Layer\n",
    "* MosaicDataset\n",
    "* NetworkDataset\n",
    "* RasterBand\n",
    "* RasterDataset\n",
    "* ShapeFile\n",
    "* Table\n",
    "* TextFile\n",
    "* Toolbox\n",
    "\n",
    "The complete list of dataType can be found at:\n",
    "<http://desktop.arcgis.com/en/arcmap/latest/analyze/arcpy-functions/arcinfo-item-properties.htm>\n",
    "\n",
    "The **hasattr()** function returns a Boolean value. An example of using the function with the Describe object is shown below."
   ]
  },
  {
   "cell_type": "code",
   "execution_count": 23,
   "metadata": {
    "scrolled": true
   },
   "outputs": [
    {
     "name": "stdout",
     "output_type": "stream",
     "text": [
      "Name: ElevationFloat\n",
      "Raster bands: 1\n"
     ]
    }
   ],
   "source": [
    "import arcpy\n",
    "arcpy.env.workspace = os.path.join(os.getcwd(), \"data/testdata.gdb\")\n",
    "element = \"ElevationFloat\"\n",
    "# element = \"buffers_poly\"\n",
    "desc = arcpy.Describe(element)\n",
    "if hasattr(desc, \"name\"):\n",
    "    print(\"Name: {}\".format(desc.name))\n",
    "if hasattr(desc, \"bandCount\"):\n",
    "    print(\"Raster bands: {}\".format(str(desc.bandCount)))\n",
    "if hasattr(desc, \"shapeType\"):\n",
    "    print(\"Shape type: {}\".format(desc.shapeType))"
   ]
  },
  {
   "cell_type": "code",
   "execution_count": 24,
   "metadata": {},
   "outputs": [
    {
     "data": {
      "image/png": "[encoded data removed]",
      "text/plain": [
       "<Figure size 432x288 with 1 Axes>"
      ]
     },
     "metadata": {
      "needs_background": "light"
     },
     "output_type": "display_data"
    }
   ],
   "source": [
    "import arcpy\n",
    "import matplotlib.pyplot as plt\n",
    "arcpy.env.workspace = os.path.join(os.getcwd(), \"data/testdata.gdb\")\n",
    "image = arcpy.RasterToNumPyArray(\"ElevationInt\")\n",
    "plt.imshow(image)\n",
    "plt.show()"
   ]
  },
  {
   "cell_type": "markdown",
   "metadata": {},
   "source": [
    "## List Data\n",
    "\n",
    "* **Listing data is very common**\n",
    "* **Several different list functions in ArcPy**\n",
    "    - ListFields\n",
    "    - ListIndexes\n",
    "    - ListDataset\n",
    "    - ListFeatureClasses\n",
    "    - ListFiles\n",
    "    - ListRasters\n",
    "    - ListTables\n",
    "    - ListWorkspaces\n",
    "    - ListVersions\n",
    "    \n",
    "* **Similar logic:**\n",
    "    - Create a list\n",
    "    - Iterate over the list using a for loop\n",
    "    \n",
    "The complete list data functions can be found at <>http://desktop.arcgis.com/en/arcmap/latest/analyze/arcpy-functions/listdatasets.htm\n"
   ]
  },
  {
   "cell_type": "markdown",
   "metadata": {},
   "source": [
    "### Listing Feature Classes\n",
    "\n",
    "* **The ListFeatureClasses function returns a list of feature classes in the current workspace**\n",
    "* **General syntax:**\n",
    "    - ListFeatureClasses ({wild_card}, {feature_type}, {feature_dataset})\n",
    "    \n",
    "* **No filtering:**\n",
    "    - fclist = arcpy.ListFeatureClasses()\n",
    "* **Filtering based on wild card**\n",
    "    - fclist = arcpy.ListFeatureClasses(\"c*\")\n",
    "* **Filtering based on feature type**\n",
    "    - fclist = arcpy.ListFeatureClasses(\"\", \"point\")\n"
   ]
  },
  {
   "cell_type": "code",
   "execution_count": 25,
   "metadata": {},
   "outputs": [
    {
     "name": "stdout",
     "output_type": "stream",
     "text": [
      "['amtrak_stations.shp', 'cities.shp', 'counties.shp', 'new_mexico.shp', 'railroads.shp']\n"
     ]
    }
   ],
   "source": [
    "import arcpy\n",
    "from arcpy import env \n",
    "env.workspace = os.path.join(os.getcwd(), 'data')\n",
    "fclist = arcpy.ListFeatureClasses()\n",
    "print(fclist)"
   ]
  },
  {
   "cell_type": "code",
   "execution_count": 26,
   "metadata": {},
   "outputs": [
    {
     "name": "stdout",
     "output_type": "stream",
     "text": [
      "['cities.shp', 'counties.shp']\n"
     ]
    }
   ],
   "source": [
    "import arcpy\n",
    "from arcpy import env \n",
    "env.workspace = os.path.join(os.getcwd(), 'data')\n",
    "fclist = arcpy.ListFeatureClasses(\"*es.shp\")\n",
    "print(fclist)"
   ]
  },
  {
   "cell_type": "markdown",
   "metadata": {},
   "source": [
    "## Listing Fields\n",
    "\n",
    "* The **ListFields** function lists the fields in a feature class or table in a specified dataset.\n",
    "* General syntax:\n",
    "    - ListFields(dataset, {wild_card}, {field_type})\n"
   ]
  },
  {
   "cell_type": "code",
   "execution_count": 27,
   "metadata": {},
   "outputs": [
    {
     "name": "stdout",
     "output_type": "stream",
     "text": [
      "FID             : OID\n",
      "Shape           : Geometry\n",
      "CITIESX020      : Double\n",
      "FEATURE         : String\n",
      "NAME            : String\n",
      "POP_RANGE       : String\n",
      "POP_2000        : Integer\n",
      "FIPS55          : String\n",
      "COUNTY          : String\n",
      "FIPS            : String\n",
      "STATE           : String\n",
      "STATE_FIPS      : String\n",
      "DISPLAY         : SmallInteger\n"
     ]
    }
   ],
   "source": [
    "import arcpy\n",
    "from arcpy import env\n",
    "env.workspace = os.path.join(os.getcwd(), 'data')\n",
    "fieldlist = arcpy.ListFields(\"cities.shp\")\n",
    "for field in fieldlist:\n",
    "    print(\"{:15} : {}\".format(field.name,field.type))"
   ]
  },
  {
   "cell_type": "markdown",
   "metadata": {},
   "source": [
    "## Using Lists in for loops\n",
    "\n",
    "The following script creates a list of fields of type String and determines for each text field what the length of the field is"
   ]
  },
  {
   "cell_type": "code",
   "execution_count": 28,
   "metadata": {},
   "outputs": [
    {
     "name": "stdout",
     "output_type": "stream",
     "text": [
      "FEATURE         27\n",
      "NAME            48\n",
      "POP_RANGE       21\n",
      "FIPS55          5\n",
      "COUNTY          55\n",
      "FIPS            5\n",
      "STATE           2\n",
      "STATE_FIPS      2\n"
     ]
    }
   ],
   "source": [
    "import arcpy\n",
    "from arcpy import env\n",
    "env.workspace = os.path.join(os.getcwd(), 'data')\n",
    "fieldlist = arcpy.ListFields(\"cities.shp\",\"\", \"String\")\n",
    "for field in fieldlist:\n",
    "    print(\"{:15} {}\".format(field.name, str(field.length)))"
   ]
  },
  {
   "cell_type": "markdown",
   "metadata": {},
   "source": [
    "The following script creates a list of TIFF files and iterates through each file in the list to build pyramids"
   ]
  },
  {
   "cell_type": "code",
   "execution_count": 29,
   "metadata": {},
   "outputs": [],
   "source": [
    "import arcpy\n",
    "from arcpy import env\n",
    "env.workspace = os.path.join(os.getcwd(), 'data')\n",
    "tifflist = arcpy.ListRasters(\"\", \"TIF\" )\n",
    "for tiff in tifflist:\n",
    "    arcpy.BuildPyramids_management(tiff)"
   ]
  }
 ],
 "metadata": {
  "anaconda-cloud": {},
  "kernelspec": {
   "display_name": "arcgis",
   "language": "python",
   "name": "arcgis"
  },
  "language_info": {
   "codemirror_mode": {
    "name": "ipython",
    "version": 3
   },
   "file_extension": ".py",
   "mimetype": "text/x-python",
   "name": "python",
   "nbconvert_exporter": "python",
   "pygments_lexer": "ipython3",
   "version": "3.6.9"
  }
 },
 "nbformat": 4,
 "nbformat_minor": 1
}
