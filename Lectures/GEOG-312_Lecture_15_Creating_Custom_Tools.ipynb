{
 "cells": [
  {
   "cell_type": "markdown",
   "metadata": {},
   "source": [
    "# Lecture 15 - Creating Custom Tools\n",
    "* Website: https://gishub.org/geog-312  \n",
    "* Instructor: [Qiusheng Wu](https://wetlands.io)\n",
    "* [Jupyter Notebook Tips and Tricks](http://bit.ly/34embJh)\n",
    "* [Markdown Cheatsheet](http://bit.ly/2UkNVXV)\n",
    "* Magic command to list all variables: `%whos`"
   ]
  },
  {
   "cell_type": "markdown",
   "metadata": {},
   "source": [
    "## Data\n",
    "* https://github.com/giswqs/geog-312/raw/gh-pages/Lectures/data/lecture15_data.zip"
   ]
  },
  {
   "cell_type": "markdown",
   "metadata": {},
   "source": [
    "## Example Script: Hardcoded Variables"
   ]
  },
  {
   "cell_type": "code",
   "execution_count": 1,
   "metadata": {},
   "outputs": [],
   "source": [
    "try:\n",
    "    import archook #The module which locates arcgis\n",
    "    archook.get_arcpy()\n",
    "    import arcpy\n",
    "except ImportError:\n",
    "    print(\"import arcpy error\")"
   ]
  },
  {
   "cell_type": "code",
   "execution_count": 3,
   "metadata": {},
   "outputs": [
    {
     "name": "stdout",
     "output_type": "stream",
     "text": [
      "Clipping floodzones.shp ...\n",
      "Clipping lakes.shp ...\n",
      "Clipping rivers.shp ...\n",
      "Clipping roads.shp ...\n"
     ]
    }
   ],
   "source": [
    "import arcpy\n",
    "import os\n",
    "\n",
    "workspace = os.path.join(os.getcwd(),'data')\n",
    "clip_fc = os.path.join(workspace, 'basin.shp') \n",
    "output_dir = os.path.join(workspace, 'Results') \n",
    "\n",
    "arcpy.env.workspace = workspace\n",
    "arcpy.env.overwriteOutput = True\n",
    "fc_list = arcpy.ListFeatureClasses()\n",
    "\n",
    "desc = arcpy.Describe(clip_fc)\n",
    "if desc.path == workspace:\n",
    "    fc_list.remove(desc.file)\n",
    "\n",
    "for fc in fc_list:\n",
    "    print('Clipping ' + fc + ' ...')\n",
    "    out_fc = os.path.join(output_dir,fc)\n",
    "    arcpy.Clip_analysis(fc,clip_fc,out_fc)"
   ]
  },
  {
   "cell_type": "markdown",
   "metadata": {},
   "source": [
    "## Example Script: User Provided Variables"
   ]
  },
  {
   "cell_type": "code",
   "execution_count": null,
   "metadata": {},
   "outputs": [],
   "source": [
    "import arcpy\n",
    "import os\n",
    "\n",
    "workspace = arcpy.GetParameterAsText(0)\n",
    "clip_fc = arcpy.GetParameterAsText(1)\n",
    "output_dir = arcpy.GetParameterAsText(2)\n",
    "\n",
    "arcpy.env.workspace = workspace\n",
    "arcpy.env.overwriteOutput = True\n",
    "fc_list = arcpy.ListFeatureClasses()\n",
    "\n",
    "desc = arcpy.Describe(clip_fc)\n",
    "if desc.path == workspace:\n",
    "    fc_list.remove(desc.file)\n",
    "\n",
    "if arcpy.Exists(output_dir) == False:\n",
    "    arcpy.CreateFolder_management(os.path.split(output_dir)[0],os.path.split(output_dir)[1])\n",
    "\n",
    "for fc in fc_list:\n",
    "    out_fc = os.path.join(output_dir,fc)\n",
    "    arcpy.Clip_analysis(fc,clip_fc,out_fc)"
   ]
  }
 ],
 "metadata": {
  "kernelspec": {
   "display_name": "arcgis",
   "language": "python",
   "name": "arcgis"
  },
  "language_info": {
   "codemirror_mode": {
    "name": "ipython",
    "version": 3
   },
   "file_extension": ".py",
   "mimetype": "text/x-python",
   "name": "python",
   "nbconvert_exporter": "python",
   "pygments_lexer": "ipython3",
   "version": "3.6.9"
  }
 },
 "nbformat": 4,
 "nbformat_minor": 1
}
