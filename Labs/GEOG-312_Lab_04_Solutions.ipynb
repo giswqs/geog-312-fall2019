{
 "cells": [
  {
   "cell_type": "markdown",
   "metadata": {},
   "source": [
    "# GEOG-312 Lab 4\n",
    "\n",
    "**Warren Ehrenfried**"
   ]
  },
  {
   "cell_type": "markdown",
   "metadata": {},
   "source": [
    "## Question 1\n",
    "**Alien Colors # 1:** Imagine an alien was just shot down in a game. Create a variable called `alien_color` and assign it a value of `green, yellow,` or `red`.\n",
    "\n",
    "* Write an if statement to test whether the alien’s color is green. If it is, print a message that the player just earned 5 points.\n",
    "* Write one version of this program that passes the if test and another that fails. (The version that fails will have no output.)"
   ]
  },
  {
   "cell_type": "code",
   "execution_count": 5,
   "metadata": {},
   "outputs": [
    {
     "name": "stdout",
     "output_type": "stream",
     "text": [
      "green\n"
     ]
    }
   ],
   "source": [
    "alien_color = 'green'\n",
    "\n",
    "if alien_color == 'green':\n",
    "    print(alien_color)"
   ]
  },
  {
   "cell_type": "code",
   "execution_count": 6,
   "metadata": {},
   "outputs": [],
   "source": [
    "alien_color = 'red'\n",
    "\n",
    "if alien_color == 'green':\n",
    "    print(alien_color)\n",
    "else:\n",
    "    alien_color != 'green'"
   ]
  },
  {
   "cell_type": "markdown",
   "metadata": {},
   "source": [
    "## Question 2\n",
    "**Alien Colors # 2:** Choose a color for an alien as you did in Question 1, and write an `if-else` chain.\n",
    "\n",
    "* If the alien’s color is green, print a statement that the player just earned 5 points for shooting the alien.\n",
    "* If the alien’s color isn’t green, print a statement that the player just earned 10 points.\n",
    "* Write one version of this program that runs the if block and another that runs the else block."
   ]
  },
  {
   "cell_type": "code",
   "execution_count": 8,
   "metadata": {},
   "outputs": [
    {
     "name": "stdout",
     "output_type": "stream",
     "text": [
      "Congrats, you earn 5 points for murdering the alien!\n"
     ]
    }
   ],
   "source": [
    "alien_color = 'green'\n",
    "\n",
    "if alien_color == 'green':\n",
    "    print(\"Congrats, you earn 5 points for murdering the alien!\")\n",
    "else:\n",
    "    print(\"It's not green, you earn 10 points.\")"
   ]
  },
  {
   "cell_type": "code",
   "execution_count": 9,
   "metadata": {},
   "outputs": [
    {
     "name": "stdout",
     "output_type": "stream",
     "text": [
      "It's not green, you earn 10 points.\n"
     ]
    }
   ],
   "source": [
    "alien_color = 'blue'\n",
    "\n",
    "if alien_color == 'green':\n",
    "    print(\"Congrats, you earn 5 points for murdering the alien!\")\n",
    "else:\n",
    "    print(\"It's not green, you earn 10 points.\")"
   ]
  },
  {
   "cell_type": "markdown",
   "metadata": {},
   "source": [
    "## Question 3\n",
    "**Alien Colors # 3:** Turn your `if-else` chain from Question 2 into an `if-elif-else` chain.\n",
    "\n",
    "* If the alien is green, print a message that the player earned 5 points.\n",
    "* If the alien is yellow, print a message that the player earned 10 points.\n",
    "* If the alien is red, print a message that the player earned 15 points.\n",
    "* Write three versions of this program, making sure each message is printed for the appropriate color alien."
   ]
  },
  {
   "cell_type": "code",
   "execution_count": 10,
   "metadata": {},
   "outputs": [
    {
     "name": "stdout",
     "output_type": "stream",
     "text": [
      "Congrats green alien, you earn 5 points!\n"
     ]
    }
   ],
   "source": [
    "alien_color = 'green'\n",
    "\n",
    "if alien_color == 'green':\n",
    "    print(\"Congrats green alien, you earn 5 points!\")\n",
    "elif alien_color == 'yellow':\n",
    "    print(\"Yellow alien? You earn 10 points I guess.\")\n",
    "else:\n",
    "    print(\"You get 15 points.\")"
   ]
  },
  {
   "cell_type": "code",
   "execution_count": 11,
   "metadata": {},
   "outputs": [
    {
     "name": "stdout",
     "output_type": "stream",
     "text": [
      "Yellow alien? You earn 10 points I guess.\n"
     ]
    }
   ],
   "source": [
    "alien_color = 'yellow'\n",
    "\n",
    "if alien_color == 'green':\n",
    "    print(\"Congrats green alien, you earn 5 points!\")\n",
    "elif alien_color == 'yellow':\n",
    "    print(\"Yellow alien? You earn 10 points I guess.\")\n",
    "else:\n",
    "    print(\"You get 15 points.\")"
   ]
  },
  {
   "cell_type": "code",
   "execution_count": 12,
   "metadata": {},
   "outputs": [
    {
     "name": "stdout",
     "output_type": "stream",
     "text": [
      "You get 15 points.\n"
     ]
    }
   ],
   "source": [
    "alien_color = 'red'\n",
    "\n",
    "if alien_color == 'green':\n",
    "    print(\"Congrats green alien, you earn 5 points!\")\n",
    "elif alien_color == 'yellow':\n",
    "    print(\"Yellow alien? You earn 10 points I guess.\")\n",
    "else:\n",
    "    print(\"You get 15 points.\")"
   ]
  },
  {
   "cell_type": "markdown",
   "metadata": {},
   "source": [
    "## Question 4\n",
    "**Stages of Life:** Write an `if-elif-else` chain that determines a person’s stage of life. Set a value for the variable `age`, and then:\n",
    "\n",
    "* If the person is less than 2 years old, print a message that the person is a baby.\n",
    "* If the person is at least 2 years old but less than 4, print a message that the person is a toddler.\n",
    "* If the person is at least 4 years old but less than 13, print a message that the person is a kid.\n",
    "* If the person is at least 13 years old but less than 20, print a message that the person is a teenager.\n",
    "* If the person is at least 20 years old but less than 65, print a message that the person is an adult."
   ]
  },
  {
   "cell_type": "code",
   "execution_count": 2,
   "metadata": {},
   "outputs": [
    {
     "name": "stdout",
     "output_type": "stream",
     "text": [
      "Adult\n"
     ]
    }
   ],
   "source": [
    "age = 21\n",
    "\n",
    "if age < 2:\n",
    "    print(\"Baby\")\n",
    "elif age < 4:\n",
    "    print(\"Toddler\")\n",
    "elif age < 13:\n",
    "    print(\"Kid\")\n",
    "elif age < 20:\n",
    "    print(\"Teenager\")\n",
    "elif age < 65:\n",
    "    print(\"Adult\")\n",
    "    "
   ]
  },
  {
   "cell_type": "markdown",
   "metadata": {},
   "source": [
    "## Question 5\n",
    "**Favorite Fruit:** Make a list of your favorite fruits, and then write a series of independent `if` statements that check for certain fruits in your list.\n",
    "\n",
    "* Make a list of your three favorite fruits and call it favorite_fruits.\n",
    "* Write five if statements. Each should check whether a certain kind of fruit is in your list. If the fruit is in your list, the if block should print a statement, such as You really like bananas!"
   ]
  },
  {
   "cell_type": "code",
   "execution_count": 4,
   "metadata": {},
   "outputs": [
    {
     "name": "stdout",
     "output_type": "stream",
     "text": [
      "Strawberries sure are good!\n",
      "Grapefruit! Thats the good stuff!\n",
      "Those green grape guys sure are tasty!\n"
     ]
    }
   ],
   "source": [
    "favorite_fruits = ['green grapes', 'grapefruit', 'strawberries']\n",
    "\n",
    "if 'strawberries' in favorite_fruits:\n",
    "    print(f\"Strawberries sure are good!\")\n",
    "if 'cheese berries' in favorite_fruits:\n",
    "    print(f\"Cheese berries sure are good!\")\n",
    "if 'grapefruit' in favorite_fruits:\n",
    "    print(f\"Grapefruit! Thats the good stuff!\")\n",
    "if 'green grapes' in favorite_fruits:\n",
    "    print(f\"Those green grape guys sure are tasty!\")\n",
    "if 'pigfruit' in favorite_fruits:\n",
    "    print(f\"Pigfruit sure is good!\")"
   ]
  },
  {
   "cell_type": "markdown",
   "metadata": {},
   "source": [
    "## Question 6\n",
    "**Hello Admin:** Make a list of five or more usernames, including the name `admin`. Imagine you are writing code that will print a greeting to each user after they log in to a website. Loop through the list, and print a greeting to each user:\n",
    "\n",
    "* If the username is 'admin', print a special greeting, such as *Hello admin, would you like to see a status report?*\n",
    "* Otherwise, print a generic greeting, such as *Hello Jaden, thank you for logging in again*."
   ]
  },
  {
   "cell_type": "code",
   "execution_count": 25,
   "metadata": {},
   "outputs": [
    {
     "name": "stdout",
     "output_type": "stream",
     "text": [
      "Hello admin, would you like a status report?\n",
      "\n",
      "Welcome back barbiechick_143, thanks for coming back!\n",
      "\n",
      "Welcome back xXQuIcKsCoPeZXx, thanks for coming back!\n",
      "\n",
      "Welcome back Grandpa_Jimmy, thanks for coming back!\n",
      "\n",
      "Welcome back ChicagoBearsFan1975, thanks for coming back!\n",
      "\n"
     ]
    }
   ],
   "source": [
    "users = ['admin', 'barbiechick_143', 'xXQuIcKsCoPeZXx', 'Grandpa_Jimmy', 'ChicagoBearsFan1975']\n",
    "\n",
    "for user in users:\n",
    "    if user == 'admin':\n",
    "        print(f\"Hello {user}, would you like a status report?\\n\")\n",
    "    else:\n",
    "        print(f\"Welcome back {user}, thanks for coming back!\\n\")"
   ]
  },
  {
   "cell_type": "markdown",
   "metadata": {},
   "source": [
    "## Question 7\n",
    "**No Users:** Based on Question 6, add an `if` test to make sure the list of users is not empty.\n",
    "\n",
    "* If the list is empty, print the message *We need to find some users!*\n",
    "* Remove all of the usernames from your list, and make sure the correct message is printed."
   ]
  },
  {
   "cell_type": "code",
   "execution_count": 29,
   "metadata": {
    "scrolled": true
   },
   "outputs": [
    {
     "name": "stdout",
     "output_type": "stream",
     "text": [
      "We need to find some users!\n"
     ]
    }
   ],
   "source": [
    "users = []\n",
    "\n",
    "if len(users) == 0:\n",
    "    print(\"We need to find some users!\")"
   ]
  },
  {
   "cell_type": "markdown",
   "metadata": {},
   "source": [
    "## Question 8\n",
    "**Checking Usernames:** Do the following to create a program that simulates how websites ensure that everyone has a unique username.\n",
    "\n",
    "* Make a list of five or more usernames called `current_users`.\n",
    "*  Make another list of five usernames called `new_users`. Make sure one or two of the new usernames are also in the `current_users` list.\n",
    "* Loop through the `new_users` list to see if each new username has already been used. If it has, print a message that the person will need to enter a new username. If a username has not been used, print a message saying that the username is available.\n",
    "* Make sure your comparison is case insensitive. If 'John' has been used, 'JOHN' should not be accepted. (To do this, you’ll need to make a copy of `current_users` containing the lowercase versions of all existing users.)"
   ]
  },
  {
   "cell_type": "code",
   "execution_count": 41,
   "metadata": {},
   "outputs": [
    {
     "name": "stdout",
     "output_type": "stream",
     "text": [
      "Sorry! There is already a user called barbiechick_143!\n",
      "\n",
      "Sorry! There is already a user called grandpa_jimmy!\n",
      "\n",
      "Welcome marty_friedman, we are glad you've made an account!\n",
      "\n",
      "Welcome big_boy, we are glad you've made an account!\n",
      "\n",
      "Welcome scientologist4lyfe, we are glad you've made an account!\n",
      "\n"
     ]
    }
   ],
   "source": [
    "current_users = ['Attorney_at_law', 'barbiechick_143', 'xXQuIcKsCoPeZXx', 'Grandpa_Jimmy', 'ChicagoBearsFan1975']\n",
    "new_users = ['BARBIEchick_143', 'grandpa_jimmy', 'marty_friedman', 'big_BOY', 'scientologist4lyfe']\n",
    "\n",
    "case_insensitive_current = map(str.lower, current_users)\n",
    "case_insensitive_new = map(str.lower, new_users)\n",
    "\n",
    "for new_user in case_insensitive_new:\n",
    "    if new_user in case_insensitive_current:\n",
    "        print(f\"Sorry! There is already a user called {new_user}!\\n\")\n",
    "    else:\n",
    "        print(f\"Welcome {new_user}, we are glad you've made an account!\\n\")"
   ]
  },
  {
   "cell_type": "markdown",
   "metadata": {},
   "source": [
    "## Question 9\n",
    "**Ordinal Numbers:** Ordinal numbers indicate their position in a list, such as *1st* or *2nd*. Most ordinal numbers end in *th*, except 1, 2, and 3.\n",
    "\n",
    "* Store the numbers 1 through 9 in a list.\n",
    "* Loop through the list.\n",
    "* Use an `if-elif-else` chain inside the loop to print the proper ordinal ending for each number. Your output should read \"1st 2nd 3rd 4th 5th 6th 7th 8th 9th\", and each result should be on a separate line."
   ]
  },
  {
   "cell_type": "code",
   "execution_count": 51,
   "metadata": {},
   "outputs": [
    {
     "name": "stdout",
     "output_type": "stream",
     "text": [
      "1st\n",
      "2nd\n",
      "3rd\n",
      "4th\n",
      "5th\n",
      "6th\n",
      "7th\n",
      "8th\n",
      "9th\n"
     ]
    }
   ],
   "source": [
    "numbers = list(range(1, 10))\n",
    "\n",
    "for number in numbers:\n",
    "    if number == 1:\n",
    "        print(f\"{number}st\")\n",
    "    elif number == 2:\n",
    "        print(f\"{number}nd\")\n",
    "    elif number == 3:\n",
    "        print(f\"{number}rd\")\n",
    "    else:\n",
    "        print(f\"{number}th\")"
   ]
  }
 ],
 "metadata": {
  "kernelspec": {
   "display_name": "Python 3",
   "language": "python",
   "name": "python3"
  },
  "language_info": {
   "codemirror_mode": {
    "name": "ipython",
    "version": 3
   },
   "file_extension": ".py",
   "mimetype": "text/x-python",
   "name": "python",
   "nbconvert_exporter": "python",
   "pygments_lexer": "ipython3",
   "version": "3.7.4"
  }
 },
 "nbformat": 4,
 "nbformat_minor": 2
}
