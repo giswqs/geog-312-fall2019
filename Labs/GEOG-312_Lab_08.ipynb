{
 "cells": [
  {
   "cell_type": "markdown",
   "metadata": {},
   "source": [
    "# GEOG-312 Lab 8\n",
    "\n",
    "**Firstname Lastname**\n",
    "\n",
    "## Data\n",
    "* https://raw.githubusercontent.com/giswqs/geog-312/gh-pages/Labs/data/lab8_data.zip"
   ]
  },
  {
   "cell_type": "markdown",
   "metadata": {},
   "source": [
    "## Question 1\n",
    "Write a script that prints out the shapefiles whose filename contains character ‘a’."
   ]
  },
  {
   "cell_type": "code",
   "execution_count": 1,
   "metadata": {},
   "outputs": [],
   "source": [
    "try:\n",
    "    import archook #The module which locates arcgis\n",
    "    archook.get_arcpy()\n",
    "    import arcpy\n",
    "except ImportError:\n",
    "    print(\"import arcpy error\")"
   ]
  },
  {
   "cell_type": "code",
   "execution_count": null,
   "metadata": {},
   "outputs": [],
   "source": []
  },
  {
   "cell_type": "code",
   "execution_count": 2,
   "metadata": {},
   "outputs": [
    {
     "name": "stdout",
     "output_type": "stream",
     "text": [
      "The shapefiles whose filename contains character 'a' are:\n",
      "facilities.shp\n",
      "hospitals.shp\n",
      "parks.shp\n"
     ]
    }
   ],
   "source": [
    "import os, arcpy\n",
    "data_dir = os.path.join(os.getcwd(), 'data')\n",
    "arcpy.env.workspace = data_dir\n"
   ]
  },
  {
   "cell_type": "markdown",
   "metadata": {},
   "source": [
    "## Question 2\n",
    "Write a script that runs the Dissolve tool on the **parks.shp** feature class using the **PARK_TYPE** field as the field for aggregating features. Specify that multipart features are not allowed. Input and Output parameters must use variables. Do not use hard-coded parameters."
   ]
  },
  {
   "cell_type": "code",
   "execution_count": null,
   "metadata": {},
   "outputs": [],
   "source": []
  },
  {
   "cell_type": "code",
   "execution_count": 3,
   "metadata": {},
   "outputs": [
    {
     "name": "stdout",
     "output_type": "stream",
     "text": [
      "Executing: Dissolve D:\\Dropbox\\git\\teaching\\geog-312\\Labs\\data\\parks.shp D:\\Dropbox\\git\\teaching\\geog-312\\Labs\\data\\Results\\Dissolve_Parks.shp PARK_TYPE # SINGLE_PART DISSOLVE_LINES\n",
      "Start Time: Fri Oct 25 10:54:19 2019\n",
      "Sorting Attributes...\n",
      "Dissolving...\n",
      "Succeeded at Fri Oct 25 10:54:20 2019 (Elapsed Time: 0.34 seconds)\n"
     ]
    }
   ],
   "source": []
  },
  {
   "cell_type": "markdown",
   "metadata": {},
   "source": [
    "## Question 3\n",
    "Write a script that calculates the **SUM** area of each **PARK_TYPE** based on the **parks.shp**. Input and Output parameters must use variables. Do not use hard-coded parameters. "
   ]
  },
  {
   "cell_type": "code",
   "execution_count": null,
   "metadata": {},
   "outputs": [],
   "source": []
  },
  {
   "cell_type": "code",
   "execution_count": 4,
   "metadata": {},
   "outputs": [
    {
     "name": "stdout",
     "output_type": "stream",
     "text": [
      "Executing: Statistics D:\\Dropbox\\git\\teaching\\geog-312\\Labs\\data\\parks.shp D:\\Dropbox\\git\\teaching\\geog-312\\Labs\\data\\Results\\Sum_Park.dbf \"SHAPE_AREA SUM\" PARK_TYPE\n",
      "Start Time: Fri Oct 25 10:54:20 2019\n",
      "Succeeded at Fri Oct 25 10:54:20 2019 (Elapsed Time: 0.08 seconds)\n"
     ]
    }
   ],
   "source": []
  },
  {
   "cell_type": "markdown",
   "metadata": {},
   "source": [
    "## Question 4\n",
    "Write a script that defines projection on the **hospitals.shp** based on the projection of **facilities.shp**. Input and Output parameters must use variables. Do not use hard-coded parameters. (8 pt.)"
   ]
  },
  {
   "cell_type": "code",
   "execution_count": null,
   "metadata": {},
   "outputs": [],
   "source": []
  },
  {
   "cell_type": "code",
   "execution_count": 5,
   "metadata": {},
   "outputs": [
    {
     "name": "stdout",
     "output_type": "stream",
     "text": [
      "Executing: DefineProjection D:\\Dropbox\\git\\teaching\\geog-312\\Labs\\data\\hospitals.shp PROJCS['NAD_1983_StatePlane_Texas_Central_FIPS_4203_Feet',GEOGCS['GCS_North_American_1983',DATUM['D_North_American_1983',SPHEROID['GRS_1980',6378137.0,298.257222101]],PRIMEM['Greenwich',0.0],UNIT['Degree',0.0174532925199433]],PROJECTION['Lambert_Conformal_Conic'],PARAMETER['False_Easting',2296583.333333333],PARAMETER['False_Northing',9842500.0],PARAMETER['Central_Meridian',-100.3333333333333],PARAMETER['Standard_Parallel_1',30.11666666666667],PARAMETER['Standard_Parallel_2',31.88333333333333],PARAMETER['Latitude_Of_Origin',29.66666666666667],UNIT['Foot_US',0.3048006096012192]]\n",
      "Start Time: Fri Oct 25 10:54:20 2019\n",
      "Succeeded at Fri Oct 25 10:54:20 2019 (Elapsed Time: 0.01 seconds)\n"
     ]
    }
   ],
   "source": []
  },
  {
   "cell_type": "markdown",
   "metadata": {},
   "source": [
    "## Question 5\n",
    "Write a script that determines whether the following extensions are available: ArcGIS 3D Analyst, Spatial Analyst, Geostatistical Analyst, and Tracking Analyst. The script should print an informative message with the results, such as \"The following extensions are available: ... “"
   ]
  },
  {
   "cell_type": "code",
   "execution_count": null,
   "metadata": {},
   "outputs": [],
   "source": []
  },
  {
   "cell_type": "code",
   "execution_count": 6,
   "metadata": {},
   "outputs": [
    {
     "name": "stdout",
     "output_type": "stream",
     "text": [
      "The following extensions are available:\n",
      "- ArcGIS 3D Analyst\n",
      "- Spatial Analyst\n",
      "- Geostatistical Analyst\n",
      "- Tracking Analyst\n"
     ]
    }
   ],
   "source": []
  }
 ],
 "metadata": {
  "kernelspec": {
   "display_name": "Python 2",
   "language": "python",
   "name": "python2"
  },
  "language_info": {
   "codemirror_mode": {
    "name": "ipython",
    "version": 2
   },
   "file_extension": ".py",
   "mimetype": "text/x-python",
   "name": "python",
   "nbconvert_exporter": "python",
   "pygments_lexer": "ipython2",
   "version": "2.7.16"
  }
 },
 "nbformat": 4,
 "nbformat_minor": 2
}
