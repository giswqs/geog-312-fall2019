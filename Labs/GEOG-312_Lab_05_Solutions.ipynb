{
 "cells": [
  {
   "cell_type": "markdown",
   "metadata": {},
   "source": [
    "# GEOG-312 Lab 5\n",
    "\n",
    "**Firstname Lastname**"
   ]
  },
  {
   "cell_type": "markdown",
   "metadata": {},
   "source": [
    "## Question 1\n",
    "**Person:** Use a dictionary to store information about a person you know. Store their first name, last name, age, and the city in which they live. You should have keys such as first_name, last_name, age, and city. Print each piece of information stored in your dictionary."
   ]
  },
  {
   "cell_type": "code",
   "execution_count": 1,
   "metadata": {},
   "outputs": [
    {
     "name": "stdout",
     "output_type": "stream",
     "text": [
      "{'first_name': 'kat', 'last_name': 'boles', 'age': 21, 'city': 'knoxville'}\n",
      "Kat\n",
      "Boles\n",
      "21\n",
      "Knoxville\n"
     ]
    }
   ],
   "source": [
    "friend = {'first_name': 'kat',\n",
    "          'last_name': 'boles',\n",
    "          'age': 21,\n",
    "          'city': 'knoxville'\n",
    "}\n",
    "\n",
    "print(friend)\n",
    "\n",
    "print(friend['first_name'].title())\n",
    "print(friend['last_name'].title())\n",
    "print(friend['age'])\n",
    "print(friend['city'].title())"
   ]
  },
  {
   "cell_type": "markdown",
   "metadata": {},
   "source": [
    "## Question 2\n",
    "**Favorite Numbers:** Use a dictionary to store people’s favorite numbers. Think of five names, and use them as keys in your dictionary. Think of a favorite number for each person, and store each as a value in your dictionary. Print each person’s name and their favorite number. For even more fun, poll a few friends and get some actual data for your program."
   ]
  },
  {
   "cell_type": "code",
   "execution_count": 2,
   "metadata": {},
   "outputs": [
    {
     "name": "stdout",
     "output_type": "stream",
     "text": [
      "\n",
      "Emma:\n",
      "23\n",
      "\n",
      "Kat:\n",
      "69\n",
      "\n",
      "Maddie:\n",
      "420\n",
      "\n",
      "Miranda:\n",
      "45\n",
      "\n",
      "Courtney:\n",
      "78\n"
     ]
    }
   ],
   "source": [
    "nums = {'emma': 23,\n",
    "        'kat': 69,\n",
    "        'maddie': 420,\n",
    "        'miranda': 45,\n",
    "        'courtney': 78   \n",
    "}\n",
    "\n",
    "for key, value in nums.items():\n",
    "    print(f\"\\n{key.title()}:\")\n",
    "    print(f\"{value}\")"
   ]
  },
  {
   "cell_type": "markdown",
   "metadata": {},
   "source": [
    "## Question 3\n",
    "**Glossary:** A Python dictionary can be used to model an actual dictionary. However, to avoid confusion, let’s call it a glossary.\n",
    "\n",
    "* Think of five programming words you’ve learned about in the previous chapters. Use these words as the keys in your glossary, and store their meanings as values.\n",
    "* Print each word and its meaning as neatly formatted output. You might print the word followed by a colon and then its meaning, or print the word on one line and then print its meaning indented on a second line. Use the newline character (\\n) to insert a blank line between each word-meaning pair in your output."
   ]
  },
  {
   "cell_type": "code",
   "execution_count": 3,
   "metadata": {},
   "outputs": [
    {
     "name": "stdout",
     "output_type": "stream",
     "text": [
      "\n",
      "variable:\n",
      "a stored value\n",
      "\n",
      "comment:\n",
      "a message ignored by python\n",
      "\n",
      "input:\n",
      "a function that allows user to insert text\n",
      "\n",
      "len:\n",
      "a function that evaluated the integer value of a string\n",
      "\n",
      "int:\n",
      "a variable that can only be represented by a number\n"
     ]
    }
   ],
   "source": [
    "definitions = {'variable': 'a stored value',\n",
    "               'comment': 'a message ignored by python',\n",
    "               'input': 'a function that allows user to insert text',\n",
    "               'len': 'a function that evaluated the integer value of a string',\n",
    "               'int': 'a variable that can only be represented by a number'\n",
    "              }\n",
    "\n",
    "for key, value in definitions.items():\n",
    "    print(f\"\\n{key}:\")\n",
    "    print(f\"{value}\")"
   ]
  },
  {
   "cell_type": "markdown",
   "metadata": {},
   "source": [
    "## Question 4\n",
    "**Glossary 2:** Now that you know how to loop through a dictionary, clean up the code from Question 3 by replacing your series of print() calls with a loop that runs through the dictionary’s keys and values. When you’re sure that your loop works, add five more Python terms to your glossary. When you run your program again, these new words and meanings should automatically be included in the output."
   ]
  },
  {
   "cell_type": "code",
   "execution_count": 4,
   "metadata": {},
   "outputs": [
    {
     "name": "stdout",
     "output_type": "stream",
     "text": [
      "\n",
      "Variable: \n",
      "a stored value\n",
      "\n",
      "Comment: \n",
      "a message ignored by python\n",
      "\n",
      "Input: \n",
      "a function that allows user to insert text\n",
      "\n",
      "Len: \n",
      "a function that evaluates the integer value of a string\n",
      "\n",
      "Int: \n",
      "a variable that can only be represented by a number\n",
      "\n",
      "==: \n",
      "equal to\n",
      "\n",
      "!=: \n",
      "not equal to\n",
      "\n",
      "<: \n",
      "less than\n",
      "\n",
      ">: \n",
      "greater than\n",
      "\n",
      "<=: \n",
      "less than or equal to\n",
      "\n",
      ">=: \n",
      "greater than or equal to\n"
     ]
    }
   ],
   "source": [
    "definitions = {'variable': 'a stored value',\n",
    "               'comment': 'a message ignored by python',\n",
    "               'input': 'a function that allows user to insert text',\n",
    "               'len': 'a function that evaluates the integer value of a string',\n",
    "               'int': 'a variable that can only be represented by a number',\n",
    "               '==': 'equal to',\n",
    "               '!=': 'not equal to',\n",
    "               '<': 'less than',\n",
    "               '>': 'greater than',\n",
    "               '<=': 'less than or equal to',\n",
    "               '>=': 'greater than or equal to'\n",
    "              }\n",
    "\n",
    "for key, value in definitions.items():\n",
    "    print(f\"\\n{key.title()}: \\n{value}\")"
   ]
  },
  {
   "cell_type": "markdown",
   "metadata": {},
   "source": [
    "## Question 5\n",
    "**Rivers:** Make a dictionary containing three major rivers and the country each river runs through. One key-value pair might be 'nile': 'egypt'.\n",
    "\n",
    "* Use a loop to print a sentence about each river, such as *The Nile runs through Egypt.*\n",
    "* Use a loop to print the name of each river included in the dictionary.\n",
    "* Use a loop to print the name of each country included in the dictionary."
   ]
  },
  {
   "cell_type": "code",
   "execution_count": 5,
   "metadata": {},
   "outputs": [
    {
     "name": "stdout",
     "output_type": "stream",
     "text": [
      "The Rhine is in Germany.\n",
      "The Euphrates is in Mesopotamia.\n",
      "The Thames is in Great Britain.\n"
     ]
    }
   ],
   "source": [
    "rivers = {'rhine': 'germany',\n",
    "         'euphrates': 'mesopotamia',\n",
    "          'thames': 'great britain'\n",
    "         }\n",
    "\n",
    "\n",
    "for key, value in rivers.items():\n",
    "    print(f\"The {key.title()} is in {value.title()}.\")"
   ]
  },
  {
   "cell_type": "markdown",
   "metadata": {},
   "source": [
    "## Question 6\n",
    "**Polling:** Based on the dictionary below (i.e., favorite_languages):\n",
    "\n",
    "* Make a list of people who should take the favorite languages poll. Include some names that are already in the dictionary and some that are not.\n",
    "* Loop through the list of people who should take the poll. If they have already taken the poll, print a message thanking them for responding. If they have not yet taken the poll, print a message inviting them to take the poll."
   ]
  },
  {
   "cell_type": "code",
   "execution_count": 6,
   "metadata": {
    "scrolled": true
   },
   "outputs": [
    {
     "name": "stdout",
     "output_type": "stream",
     "text": [
      "\n",
      "Thank you for participating, Jen!\n",
      "\n",
      "Thank you for participating, Sarah!\n",
      "\n",
      "Emma, please participate in our poll!\n",
      "\n",
      "Kat, please participate in our poll!\n",
      "\n",
      "Maddie, please participate in our poll!\n"
     ]
    }
   ],
   "source": [
    "favorite_languages = {\n",
    "    'jen': 'python',\n",
    "    'sarah': 'c',\n",
    "    'edward': 'ruby',\n",
    "    'phil': 'python',\n",
    "    }\n",
    "\n",
    "participants = ['jen', 'sarah', 'emma', 'kat', 'maddie']\n",
    "\n",
    "for participant in participants:\n",
    "    if participant in favorite_languages:\n",
    "        print(f\"\\nThank you for participating, {participant.title()}!\")\n",
    "    else:\n",
    "        print(f\"\\n{participant.title()}, please participate in our poll!\")"
   ]
  },
  {
   "cell_type": "markdown",
   "metadata": {},
   "source": []
  },
  {
   "cell_type": "markdown",
   "metadata": {},
   "source": [
    "## Question 7\n",
    "**People:** Start with the program you wrote for Question 1. Make two new dictionaries representing different people, and store all three dictionaries in a list called `people`. Loop through your list of people. As you loop through the list, print everything you know about each person."
   ]
  },
  {
   "cell_type": "code",
   "execution_count": 7,
   "metadata": {},
   "outputs": [
    {
     "name": "stdout",
     "output_type": "stream",
     "text": [
      "\n",
      "Full Name: Kat Boles \n",
      "Age: 21 \n",
      "Location: Knoxville\n",
      "\n",
      "Full Name: Maddie Smith \n",
      "Age: 20 \n",
      "Location: Nashville\n",
      "\n",
      "Full Name: Jessica Ramsey \n",
      "Age: 21 \n",
      "Location: Knoxville\n"
     ]
    }
   ],
   "source": [
    "people = {\n",
    "    'kat': {\n",
    "        'first': 'kat',\n",
    "        'last': 'boles',\n",
    "        'age': 21,\n",
    "        'location': 'knoxville',\n",
    "        },\n",
    "    'maddie': {\n",
    "        'first': 'maddie',\n",
    "        'last': 'smith',\n",
    "        'age': 20,\n",
    "        'location': 'nashville',\n",
    "        },\n",
    "    'jessica': {\n",
    "        'first': 'jessica',\n",
    "        'last': 'ramsey',\n",
    "        'age': 21,\n",
    "        'location': 'knoxville',\n",
    "        },\n",
    "    }\n",
    "\n",
    "for people, people_bio in people.items():\n",
    "    full_name = f\"{people_bio['first'].title()} {people_bio['last'].title()}\"\n",
    "    age = people_bio['age']\n",
    "    location = people_bio['location']\n",
    "        \n",
    "    print(f\"\\nFull Name: {full_name.title()} \\nAge: {age} \\nLocation: {location.title()}\")\n",
    "    "
   ]
  },
  {
   "cell_type": "markdown",
   "metadata": {},
   "source": [
    "## Question 8\n",
    "**Pets:** Make several dictionaries, where each dictionary represents a different pet. In each dictionary, include the kind of animal and the owner’s name. Store these dictionaries in a list called `pets`. Next, loop through your list and as you do, print everything you know about each pet."
   ]
  },
  {
   "cell_type": "code",
   "execution_count": 8,
   "metadata": {},
   "outputs": [
    {
     "name": "stdout",
     "output_type": "stream",
     "text": [
      "\n",
      "Name: Bandit \n",
      "Owner: Courtney \n",
      "Favorite Food: pâté\n",
      "\n",
      "Name: Sugar \n",
      "Owner: Jessica \n",
      "Favorite Food: tater tots\n",
      "\n",
      "Name: Henry \n",
      "Owner: Rachel \n",
      "Favorite Food: whiskey\n"
     ]
    }
   ],
   "source": [
    "pets = {\n",
    "    'bandit': {\n",
    "        'species': 'cat',\n",
    "        'owner': 'courtney',\n",
    "        'fav_food': 'pâté'\n",
    "        },\n",
    "    'sugar': {\n",
    "        'species': 'dog',\n",
    "        'owner': 'jessica',\n",
    "        'fav_food': 'tater tots'\n",
    "        },\n",
    "    'henry': {\n",
    "        'species': 'fake skeleton',\n",
    "        'owner': 'rachel',\n",
    "        'fav_food': 'whiskey'\n",
    "    },\n",
    "}\n",
    "\n",
    "for pet, pet_bio in pets.items():\n",
    "    name = pet\n",
    "    species = pet_bio['species']\n",
    "    owner = pet_bio['owner']\n",
    "    fav_food = pet_bio['fav_food']\n",
    "    \n",
    "    print(f\"\\nName: {name.title()} \\nOwner: {owner.title()} \\nFavorite Food: {fav_food}\")\n",
    "  "
   ]
  },
  {
   "cell_type": "markdown",
   "metadata": {},
   "source": [
    "## Question 9\n",
    "**Favorite Places:** Make a dictionary called `favorite_places`. Think of three names to use as keys in the dictionary, and store one to three favorite places for each person. To make this exercise a bit more interesting, ask some friends to name a few of their favorite places. Loop through the dictionary, and print each person’s name and their favorite places."
   ]
  },
  {
   "cell_type": "code",
   "execution_count": 9,
   "metadata": {},
   "outputs": [
    {
     "name": "stdout",
     "output_type": "stream",
     "text": [
      "\n",
      "Emma's favorite places are:\n",
      "\tHome\n",
      "\tBurchfiel\n",
      "\tStarbucks\n",
      "\n",
      "Kat's favorite places are:\n",
      "\tSavannah\n",
      "\tThe Mall\n",
      "\tChili'S\n",
      "\n",
      "Miranda's favorite places are:\n",
      "\tSpain\n",
      "\tMexico\n",
      "\tCancun\n"
     ]
    }
   ],
   "source": [
    "favorite_places = {\n",
    "        'emma': ['home', 'burchfiel', 'starbucks'],\n",
    "        'kat': ['savannah', 'the mall', 'chili\\'s'],\n",
    "        'miranda': ['spain', 'mexico', 'cancun']\n",
    "        }\n",
    "\n",
    "for name, places in favorite_places.items():\n",
    "    print(f\"\\n{name.title()}\\'s favorite places are:\")\n",
    "    for place in places:\n",
    "        print(f\"\\t{place.title()}\")\n",
    "  \n",
    "    "
   ]
  },
  {
   "cell_type": "markdown",
   "metadata": {},
   "source": [
    "## Question 10\n",
    "**Favorite Numbers:** Modify your program from Question 2 so each person can have more than one favorite number. Then print each person’s name along with their favorite numbers."
   ]
  },
  {
   "cell_type": "code",
   "execution_count": 10,
   "metadata": {},
   "outputs": [
    {
     "name": "stdout",
     "output_type": "stream",
     "text": [
      "\n",
      "Emma:\n",
      "\t23\n",
      "\t45\n",
      "\t9\n",
      "\n",
      "Kat:\n",
      "\t69\n",
      "\t5\n",
      "\t4\n",
      "\n",
      "Maddie:\n",
      "\t420\n",
      "\t7\n",
      "\t89\n",
      "\n",
      "Miranda:\n",
      "\t45\n",
      "\t67\n",
      "\t32\n",
      "\n",
      "Courtney:\n",
      "\t78\n",
      "\t16\n",
      "\t91\n"
     ]
    }
   ],
   "source": [
    "nums = {'emma': [23, 45, 9],\n",
    "        'kat': [69, 5, 4],\n",
    "        'maddie': [420, 7, 89],\n",
    "        'miranda': [45, 67, 32],\n",
    "        'courtney': [78, 16, 91]   \n",
    "}\n",
    "\n",
    "for name, nums in nums.items():\n",
    "    print(f\"\\n{name.title()}:\")\n",
    "    for num in nums:\n",
    "        print(f\"\\t{num}\")"
   ]
  },
  {
   "cell_type": "markdown",
   "metadata": {},
   "source": [
    "## Question 11\n",
    "**Cities:** Make a dictionary called `cities`. Use the names of three cities as keys in your dictionary. Create a dictionary of information about each city and include the country that the city is in, its approximate population, and one fact about that city. The keys for each city’s dictionary should be something like `country`, `population`, and `fact`. Print the name of each city and all of the information you have stored about it."
   ]
  },
  {
   "cell_type": "code",
   "execution_count": 11,
   "metadata": {},
   "outputs": [
    {
     "name": "stdout",
     "output_type": "stream",
     "text": [
      "\n",
      "Charleston is in America, has 130,113 citizens, and is the oldest city in South Carolina.\n",
      "\n",
      "Montevideo is in Uruguay, has 1.381 million citizens, and is the capital of Uruguay.\n",
      "\n",
      "Salamanca is in Spain, has 144,692 citizens, and is home to the third oldest university in Europe.\n"
     ]
    }
   ],
   "source": [
    "cities = {\n",
    "    'charleston': {\n",
    "        'country': 'america',\n",
    "        'population': '130,113',\n",
    "        'fact': 'is the oldest city in South Carolina'\n",
    "        },\n",
    "    'montevideo': {\n",
    "        'country': 'uruguay',\n",
    "        'population': '1.381 million',\n",
    "        'fact': 'is the capital of Uruguay'\n",
    "        },\n",
    "    'salamanca': {\n",
    "        'country': 'spain',\n",
    "        'population': '144,692',\n",
    "        'fact': 'is home to the third oldest university in Europe'\n",
    "        }\n",
    "    }\n",
    "for name, info in cities.items():\n",
    "    print(f\"\\n{name.title()} is in {info['country'].title()}, has {info['population']} citizens, and {info['fact']}.\")"
   ]
  },
  {
   "cell_type": "markdown",
   "metadata": {},
   "source": [
    "## Question 12\n",
    "**Extensions:** We’re now working with examples that are complex enough that they can be extended in any number of ways. Use one of the example programs from this chapter, and extend it by adding new keys and values, changing the context of the program or improving the formatting of the output."
   ]
  },
  {
   "cell_type": "code",
   "execution_count": 12,
   "metadata": {},
   "outputs": [
    {
     "name": "stdout",
     "output_type": "stream",
     "text": [
      "\n",
      "Username: aeinstein\n",
      "\tFull name: Albert Einstein \n",
      "\tLocation: Princeton\n",
      "\n",
      "Username: mcurie\n",
      "\tFull name: Marie Curie \n",
      "\tLocation: Paris\n",
      "\n",
      "Username: lprince\n",
      "\tFull name: Louis Le Prince \n",
      "\tLocation: Dijon\n"
     ]
    }
   ],
   "source": [
    "users = {'aeinstein': ['albert', 'einstein', 'princeton'],\n",
    "        'mcurie': ['marie', 'curie', 'paris'],\n",
    "        'lprince': ['louis', 'le prince', 'dijon']  \n",
    "        }\n",
    "\n",
    "for username, user_info in users.items():\n",
    "    print(f\"\\nUsername: {username}\")\n",
    "    full_name = f\"{user_info[0]} {user_info[1]}\"\n",
    "    location = user_info[2]\n",
    "\n",
    "    print(f\"\\tFull name: {full_name.title()} \\n\\tLocation: {location.title()}\")"
   ]
  },
  {
   "cell_type": "markdown",
   "metadata": {},
   "source": [
    "## Question 13\n",
    "**Rental Car:** Write a program that asks the user what kind of rental car they would like. Print a message about that car, such as “Let me see if I can find you a Subaru.”"
   ]
  },
  {
   "cell_type": "code",
   "execution_count": null,
   "metadata": {},
   "outputs": [],
   "source": [
    "name = input(\"Please enter your full name:\")\n",
    "car = input(\"What type of car are you hoping to rent today?\")\n",
    "\n",
    "print(f\"\\nThank you, {name}! Let me see if I can find a {car} for you!\")"
   ]
  },
  {
   "cell_type": "markdown",
   "metadata": {},
   "source": [
    "## Question 14\n",
    "**Restaurant Seating:** Write a program that asks the user how many people are in their dinner group. If the answer is more than eight, print a message saying they’ll have to wait for a table. Otherwise, report that their table is ready."
   ]
  },
  {
   "cell_type": "code",
   "execution_count": null,
   "metadata": {},
   "outputs": [],
   "source": [
    "party = input(\"Welcome! How many will be dining with us this evening?\")\n",
    "party = int(party)\n",
    "\n",
    "if party < 8:\n",
    "    print(\"Your table is ready!\")\n",
    "elif party >= 8:\n",
    "    print(\"We will have your party seated as soon as a table opens up!\")"
   ]
  },
  {
   "cell_type": "markdown",
   "metadata": {},
   "source": [
    "## Question 15\n",
    "**Multiples of Ten:** Ask the user for a number, and then report whether the number is a multiple of 10 or not."
   ]
  },
  {
   "cell_type": "code",
   "execution_count": null,
   "metadata": {},
   "outputs": [],
   "source": [
    "number = input(\"Enter a number to find out if it is a multiple of 10!\")\n",
    "number = int(number)\n",
    "\n",
    "if number % 10 == 0:\n",
    "    print(f\"{number} is a multiple of 10!\")\n",
    "else:\n",
    "    print(f\"{number} is NOT a multiple of 10!\")"
   ]
  },
  {
   "cell_type": "markdown",
   "metadata": {},
   "source": [
    "## Question 16\n",
    "**Pizza Toppings:** Write a loop that prompts the user to enter a series of pizza toppings until they enter a 'quit' value. As they enter each topping, print a message saying you’ll add that topping to their pizza."
   ]
  },
  {
   "cell_type": "code",
   "execution_count": null,
   "metadata": {},
   "outputs": [],
   "source": [
    "prompt = \"Please choose toppings:\"\n",
    "prompt += \"\\n(Enter 'quit' when finished.)\"\n",
    "\n",
    "while True:\n",
    "    toppings = input(prompt)\n",
    "    \n",
    "    if toppings == 'quit':\n",
    "        print(\"\\nMaking your pizza!\")\n",
    "        break\n",
    "    else:\n",
    "        print(f\"\\nAdding {toppings} to your pizza!\")"
   ]
  },
  {
   "cell_type": "markdown",
   "metadata": {},
   "source": [
    "## Question 17\n",
    "**Movie Tickets:** A movie theater charges different ticket prices depending on a person’s age. If a person is under the age of 3, the ticket is free; if they are between 3 and 12, the ticket is \\\\$10; and if they are over age 12, the ticket is $15. Write a loop in which you ask users their age, and then tell them the cost of their movie ticket."
   ]
  },
  {
   "cell_type": "code",
   "execution_count": null,
   "metadata": {},
   "outputs": [],
   "source": [
    "age = input(\"Please enter your age!\")\n",
    "age = int(age)\n",
    "\n",
    "if age < 3:\n",
    "    print(\"Ticket is free!\")\n",
    "elif age > 3:\n",
    "    print(\"Ticket is $10!\")\n",
    "elif age > 12:\n",
    "    print(\"Ticket is $15!\")"
   ]
  },
  {
   "cell_type": "markdown",
   "metadata": {},
   "source": [
    "## Question 18\n",
    "**Three Exits:** Write different versions of either Question 16 or Question 17 that do each of the following at least once:\n",
    "\n",
    "* Use a conditional test in the while statement to stop the loop.\n",
    "* Use an active variable to control how long the loop runs.\n",
    "* Use a break statement to exit the loop when the user enters a 'quit' value."
   ]
  },
  {
   "cell_type": "code",
   "execution_count": null,
   "metadata": {},
   "outputs": [],
   "source": [
    "# Original\n",
    "\n",
    "prompt = \"Please choose toppings:\"\n",
    "prompt += \"\\n(Enter 'quit' when finished.)\"\n",
    "\n",
    "while True:\n",
    "    toppings = input(prompt)\n",
    "    \n",
    "    if toppings == 'quit':\n",
    "        print(\"\\nMaking your pizza!\")\n",
    "        break\n",
    "    else:\n",
    "        print(f\"\\nAdding {toppings} to your pizza!\")"
   ]
  },
  {
   "cell_type": "code",
   "execution_count": null,
   "metadata": {},
   "outputs": [],
   "source": [
    "prompt = \"Please choose toppings:\"\n",
    "prompt += \"\\n(Enter 'quit' when finished.)\"\n",
    "\n",
    "active = True\n",
    "while active:\n",
    "    toppings = input(prompt)\n",
    "    \n",
    "    if toppings == 'quit':\n",
    "        print(\"\\nMaking your pizza!\")\n",
    "        active = False\n",
    "    elif toppings != 'quit':\n",
    "        print(f\"\\nAdding {toppings} to your pizza!\")"
   ]
  },
  {
   "cell_type": "code",
   "execution_count": null,
   "metadata": {},
   "outputs": [],
   "source": [
    "add_active = True\n",
    "\n",
    "while add_active:\n",
    "    toppings = input(\"\\nPlease choose toppings:\")\n",
    "\n",
    "    repeat = input(\"Would you like to add more? (yes/ no) \")\n",
    "    if repeat == 'no':\n",
    "        add_active = False\n",
    "\n",
    "print(f\"Putting your pizza in the oven!.\")"
   ]
  },
  {
   "cell_type": "markdown",
   "metadata": {},
   "source": []
  },
  {
   "cell_type": "markdown",
   "metadata": {},
   "source": [
    "## Question 19\n",
    "**Deli:** Make a list called `sandwich_orders` and fill it with the names of various sandwiches. Then make an empty list called `finished_sandwiches`. Loop through the list of sandwich orders and print a message for each order, such as `I made your tuna sandwich`. As each sandwich is made, move it to the list of finished sandwiches. After all the sandwiches have been made, print a message listing each sandwich that was made."
   ]
  },
  {
   "cell_type": "code",
   "execution_count": null,
   "metadata": {},
   "outputs": [],
   "source": [
    "sandwich_orders = ['italian', 'reuben', 'roast beef']\n",
    "finished_sandwiches = []\n",
    "\n",
    "while sandwich_orders:\n",
    "    current_order = sandwich_orders.pop()\n",
    "    \n",
    "    print(f\"Your {current_order} sandwich is ready!\")\n",
    "    finished_sandwiches.append(current_order)\n",
    "\n",
    "print(\"\\nThe following orders are complete:\")\n",
    "for finished_sandwich in finished_sandwiches:\n",
    "    print(f\"\\t{finished_sandwich}\")"
   ]
  },
  {
   "cell_type": "markdown",
   "metadata": {},
   "source": [
    "## Question 20\n",
    "**No Pastrami:** Using the list `sandwich_orders` from Question 19, make sure the sandwich `pastrami` appears in the list at least three times. Add code near the beginning of your program to print a message saying the deli has run out of pastrami, and then use a `while` loop to remove all occurrences of `pastrami` from `sandwich_orders`. Make sure no pastrami sandwiches end up in `finished_sandwiches`."
   ]
  },
  {
   "cell_type": "code",
   "execution_count": null,
   "metadata": {},
   "outputs": [],
   "source": [
    "sandwich_orders = ['italian', 'pastrami', 'reuben','pastrami', 'roast beef', 'pastrami']\n",
    "finished_sandwiches = []\n",
    "\n",
    "print(sandwich_orders)\n",
    "\n",
    "while 'pastrami' in sandwich_orders:\n",
    "    sandwich_orders.remove('pastrami')\n",
    "\n",
    "print(sandwich_orders)\n",
    "\n",
    "while 'pastrami' in finished_sandwiches:\n",
    "    finished_sandwich.remove('pastrami')\n",
    "\n",
    "while sandwich_orders:\n",
    "    current_order = sandwich_orders.pop()\n",
    "    \n",
    "    print(f\"\\nYour {current_order} sandwich is ready!\")\n",
    "    finished_sandwiches.append(current_order)\n",
    "\n",
    "print(\"\\nThe following orders are complete:\")\n",
    "for finished_sandwich in finished_sandwiches:\n",
    "    print(f\"\\t{finished_sandwich}\")\n"
   ]
  },
  {
   "cell_type": "markdown",
   "metadata": {},
   "source": [
    "## Question 21\n",
    "**Dream Vacation:** Write a program that polls users about their dream vacation. Write a prompt similar to *If you could visit one place in the world, where would you go?* Include a block of code that prints the results of the poll."
   ]
  },
  {
   "cell_type": "code",
   "execution_count": null,
   "metadata": {},
   "outputs": [],
   "source": [
    "responses = {}\n",
    "\n",
    "poll_active = True\n",
    "\n",
    "while poll_active:\n",
    "    username = input(\"Please enter your username:\")\n",
    "    response = input(\"If you could visit one place in the world, where would you go?\")\n",
    "    \n",
    "    responses[username] = response\n",
    "   \n",
    "    repeat = input(\"Will anyone else be responding? (Y/N)\")\n",
    "    if repeat == 'n':\n",
    "        poll_active =  False \n",
    "\n",
    "print(\"\\tPoll Results:\")\n",
    "for username, response in responses.items():\n",
    "    print(f\"{username} wants to visit {response}!\")\n"
   ]
  }
 ],
 "metadata": {
  "kernelspec": {
   "display_name": "Python 3",
   "language": "python",
   "name": "python3"
  },
  "language_info": {
   "codemirror_mode": {
    "name": "ipython",
    "version": 3
   },
   "file_extension": ".py",
   "mimetype": "text/x-python",
   "name": "python",
   "nbconvert_exporter": "python",
   "pygments_lexer": "ipython3",
   "version": "3.7.4"
  }
 },
 "nbformat": 4,
 "nbformat_minor": 2
}
