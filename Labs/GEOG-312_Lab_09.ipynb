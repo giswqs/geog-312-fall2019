{
 "cells": [
  {
   "cell_type": "markdown",
   "metadata": {},
   "source": [
    "# GEOG-312 Lab 9\n",
    "\n",
    "**Firstname Lastname**\n",
    "\n",
    "## Data\n",
    "* https://raw.githubusercontent.com/giswqs/geog-312/gh-pages/Labs/data/lab9_data.zip"
   ]
  },
  {
   "cell_type": "markdown",
   "metadata": {},
   "source": [
    "# Question 1\n",
    "\n",
    "Write a script that will create a File Geodatabase in the data/Results folder, and copy those Shapfiles that are either **Point** or **Polygon** shapeType from the data folder to the newly created File Geodatabase. Note that you cannot use hard-coded filename (e.g. “cities.shp”) to specify which Shapefile to copy. \n",
    "\n",
    "**Hints**: arcpy.ListFeatureClasses(), arcpy.Describe(), arcpy.CreateFileGDB_management(), arcpy.CopyFeatures_management()"
   ]
  },
  {
   "cell_type": "code",
   "execution_count": null,
   "metadata": {},
   "outputs": [],
   "source": [
    "try:\n",
    "    import archook #The module which locates arcgis\n",
    "    archook.get_arcpy()\n",
    "    import arcpy\n",
    "except ImportError:\n",
    "    print(\"import arcpy error\")"
   ]
  },
  {
   "cell_type": "code",
   "execution_count": 1,
   "metadata": {},
   "outputs": [],
   "source": []
  },
  {
   "cell_type": "code",
   "execution_count": 2,
   "metadata": {},
   "outputs": [
    {
     "name": "stdout",
     "output_type": "stream",
     "text": [
      "This list of Point or Polygon shapefiles:\n",
      "['amtrak_stations.shp', 'cities.shp', 'counties.shp', 'new_mexico.shp']\n",
      "\n",
      "Copying Point or Polygon shapefiles:\n",
      "Copying amtrak_stations ...\n",
      "Copying cities ...\n",
      "Copying counties ...\n",
      "Copying new_mexico ...\n"
     ]
    }
   ],
   "source": []
  },
  {
   "cell_type": "markdown",
   "metadata": {},
   "source": [
    "# Question 2\n",
    "\n",
    "Write a script that copies **polygon-type** feature classes and **float-type** raster datasets from testdata.gdb to the data/Results folder. Feature classes can be saved as Shapefile format while raster datasets can be saved as TIF format. Note that you cannot use hard-coded filename (e.g. “buffers_poly”) to specify which file to copy. \n",
    "\n",
    "**Hints**: arcpy.ListFeatureClasses(), arcpy.ListRasters(), arcpy.CopyFeatures_management(), arcpy.CopyRaster_management()"
   ]
  },
  {
   "cell_type": "code",
   "execution_count": null,
   "metadata": {},
   "outputs": [],
   "source": []
  },
  {
   "cell_type": "code",
   "execution_count": 3,
   "metadata": {},
   "outputs": [
    {
     "name": "stdout",
     "output_type": "stream",
     "text": [
      "The list of polygon-type feature classes:\n",
      "['buffers_poly', 'LittlePolys', 'Watersheds_polygon']\n",
      "\n",
      "The list of raster datasets:\n",
      "['ElevationFloat', 'ElevationInt', 'Geology_raster', 'Landcover_raster']\n"
     ]
    }
   ],
   "source": []
  },
  {
   "cell_type": "code",
   "execution_count": 4,
   "metadata": {},
   "outputs": [
    {
     "name": "stdout",
     "output_type": "stream",
     "text": [
      "Copying buffers_poly.shp ...\n",
      "Copying LittlePolys.shp ...\n",
      "Copying Watersheds_polygon.shp ...\n",
      "Copying ElevationFloat.tif ...\n"
     ]
    }
   ],
   "source": []
  },
  {
   "cell_type": "markdown",
   "metadata": {},
   "source": [
    "# Question 3\n",
    "\n",
    "After completing Question 2, you should have the float-type raster dataset(s) in the Results folder. Write a script to print out the properties for each float-type raster dataset, including the spatial reference name, cell size, columns, rows, Min, Max, and Mean values.  Note that you cannot use hard-coded filename to specify which raster dataset to use. \n",
    "\n",
    "**Hints**: arcpy.Describe(), arcpy.GetRasterProperties_management()"
   ]
  },
  {
   "cell_type": "code",
   "execution_count": null,
   "metadata": {},
   "outputs": [],
   "source": []
  },
  {
   "cell_type": "code",
   "execution_count": 5,
   "metadata": {},
   "outputs": [
    {
     "name": "stdout",
     "output_type": "stream",
     "text": [
      "Printing properties of ElevationFloat.tif\n",
      "Spatial Reference: USA_Contiguous_Albers_Equal_Area_Conic_USGS_version\n",
      "CELLSIZEX: 30\n",
      "ROWCOUNT: 207\n",
      "COLUMNCOUNT: 233\n",
      "MINIMUM: 4309\n",
      "MAXIMUM: 5832\n",
      "MEAN: 4907.5136753423\n"
     ]
    }
   ],
   "source": []
  },
  {
   "cell_type": "markdown",
   "metadata": {},
   "source": [
    "# Question 4\n",
    "\n",
    "After completing Question 2, you should have the polygon-type Shapefiles in the Results folder. Write a script to print out the String-type fields with length > 10 for each Shapefile. Note that you cannot use hard-coded filename to specify which Shapefile to use. \n",
    "\n",
    "**Hints**: arcpy.ListFeatureClasses(), arcpy.ListFields()"
   ]
  },
  {
   "cell_type": "code",
   "execution_count": null,
   "metadata": {},
   "outputs": [],
   "source": []
  },
  {
   "cell_type": "code",
   "execution_count": 6,
   "metadata": {},
   "outputs": [
    {
     "name": "stdout",
     "output_type": "stream",
     "text": [
      "buffers_poly.shp\n",
      "SITE_NO\n",
      "STATION_NM\n",
      "LAND_NET_D\n",
      "MAP_NM\n",
      "DATA_TYPES\n",
      "INSTRUMENT\n",
      "****************\n",
      "LittlePolys.shp\n",
      "STAID\n",
      "****************\n",
      "Watersheds_polygon.shp\n",
      "STAID\n",
      "****************\n"
     ]
    }
   ],
   "source": []
  },
  {
   "cell_type": "code",
   "execution_count": null,
   "metadata": {},
   "outputs": [],
   "source": []
  }
 ],
 "metadata": {
  "anaconda-cloud": {},
  "kernelspec": {
   "display_name": "arcgis",
   "language": "python",
   "name": "arcgis"
  },
  "language_info": {
   "codemirror_mode": {
    "name": "ipython",
    "version": 3
   },
   "file_extension": ".py",
   "mimetype": "text/x-python",
   "name": "python",
   "nbconvert_exporter": "python",
   "pygments_lexer": "ipython3",
   "version": "3.6.9"
  }
 },
 "nbformat": 4,
 "nbformat_minor": 1
}
