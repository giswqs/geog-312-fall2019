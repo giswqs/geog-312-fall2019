{
 "cells": [
  {
   "cell_type": "markdown",
   "metadata": {},
   "source": [
    "# GEOG-312 Lab 6\n",
    "\n",
    "**Emma Jones**\n",
    "\n",
    "*Modified by Qiusheng Wu*"
   ]
  },
  {
   "cell_type": "markdown",
   "metadata": {},
   "source": [
    "## Question 1\n",
    "**Message:** Write a function called `display_message()` that prints one sentence telling everyone what you are learning about in this chapter. Call the function, and make sure the message displays correctly."
   ]
  },
  {
   "cell_type": "code",
   "execution_count": 1,
   "metadata": {},
   "outputs": [
    {
     "name": "stdout",
     "output_type": "stream",
     "text": [
      "We are learning about functions!\n"
     ]
    }
   ],
   "source": [
    "def display_message():\n",
    "    print(\"We are learning about functions!\")\n",
    "\n",
    "display_message()"
   ]
  },
  {
   "cell_type": "markdown",
   "metadata": {},
   "source": [
    "## Question 2\n",
    "**Favorite Book:** Write a function called `favorite_book()` that accepts one parameter, title. The function should print a message, such as `One of my favorite books is Alice in Wonderland`. Call the function, making sure to include a book title as an argument in the function call."
   ]
  },
  {
   "cell_type": "code",
   "execution_count": 2,
   "metadata": {},
   "outputs": [
    {
     "name": "stdout",
     "output_type": "stream",
     "text": [
      "My favorite book is Turn\n"
     ]
    }
   ],
   "source": [
    "def favorite_book(title):\n",
    "    print(f\"My favorite book is {title.title()}\")\n",
    "\n",
    "favorite_book('turn')"
   ]
  },
  {
   "cell_type": "markdown",
   "metadata": {},
   "source": [
    "## Question 3\n",
    "**T-Shirt:** Write a function called `make_shirt()` that accepts a size and the text of a message that should be printed on the shirt. The function should print a sentence summarizing the size of the shirt and the message printed on it.\n",
    "\n",
    "Call the function once using positional arguments to make a shirt. Call the function a second time using keyword arguments."
   ]
  },
  {
   "cell_type": "code",
   "execution_count": 3,
   "metadata": {},
   "outputs": [
    {
     "name": "stdout",
     "output_type": "stream",
     "text": [
      "The shirt is a large.\n",
      "The shirt will say 'i <3 CRJ'.\n"
     ]
    }
   ],
   "source": [
    "def make_shirt(size, message):\n",
    "    print(f\"The shirt is a {size}.\")\n",
    "    print(f\"The shirt will say '{message}'.\")\n",
    "    \n",
    "make_shirt('large', 'i <3 CRJ')"
   ]
  },
  {
   "cell_type": "code",
   "execution_count": 10,
   "metadata": {},
   "outputs": [
    {
     "name": "stdout",
     "output_type": "stream",
     "text": [
      "The shirt is a large.\n",
      "The shirt will say 'i <3 CRJ'.\n"
     ]
    }
   ],
   "source": [
    "def make_shirt(size, message):\n",
    "    print(f\"The shirt is a {size}.\")\n",
    "    print(f\"The shirt will say '{message}'.\")\n",
    "    \n",
    "make_shirt(size='large', message='i <3 CRJ')"
   ]
  },
  {
   "cell_type": "markdown",
   "metadata": {},
   "source": [
    "## Question 4\n",
    "**Large Shirts:** Modify the `make_shirt()` function so that shirts are large by default with a message that reads *I love Python*. Make a large shirt and a medium shirt with the default message, and a shirt of any size with a different message."
   ]
  },
  {
   "cell_type": "code",
   "execution_count": 11,
   "metadata": {},
   "outputs": [
    {
     "name": "stdout",
     "output_type": "stream",
     "text": [
      "The shirt is a size large and says: I love Python.\n",
      "The shirt is a size medium and says: I love Python.\n",
      "The shirt is a size small and says: Python is the best.\n"
     ]
    }
   ],
   "source": [
    "def make_shirt(size='large', message='I love Python'):\n",
    "    print(f\"The shirt is a size {size} and says: {message}.\")\n",
    "\n",
    "make_shirt()\n",
    "make_shirt(size='medium')\n",
    "make_shirt(size='small', message='Python is the best')"
   ]
  },
  {
   "cell_type": "markdown",
   "metadata": {},
   "source": [
    "## Question 5\n",
    "**Cities:** Write a function called `describe_city()` that accepts the name of a city and its country. The function should print a simple sentence, such as `Reykjavik is in Iceland`. Give the parameter for the country a default value. Call your function for three different cities, at least one of which is not in the default country."
   ]
  },
  {
   "cell_type": "code",
   "execution_count": 12,
   "metadata": {},
   "outputs": [
    {
     "name": "stdout",
     "output_type": "stream",
     "text": [
      "Cordoba is in Spain.\n",
      "Salamanca is in Spain.\n",
      "Balti is in Moldova.\n"
     ]
    }
   ],
   "source": [
    "def describe_city(city, country='spain'):\n",
    "    print(f\"{city.title()} is in {country.title()}.\")\n",
    "    \n",
    "describe_city(city='cordoba')\n",
    "describe_city(city='salamanca')\n",
    "describe_city(city='balti', country='moldova')"
   ]
  },
  {
   "cell_type": "markdown",
   "metadata": {},
   "source": [
    "## Question 6\n",
    "**City Names:** Write a function called `city_country()` that takes in the name of a city and its country. The function should return a string formatted like this:\n",
    "```\n",
    "Santiago, Chile\n",
    "```\n",
    "Call your function with at least three city-country pairs, and print the values that are returned."
   ]
  },
  {
   "cell_type": "code",
   "execution_count": 13,
   "metadata": {},
   "outputs": [
    {
     "name": "stdout",
     "output_type": "stream",
     "text": [
      "Cordoba, Spain\n",
      "Salamanco, Spain\n",
      "Balti, Moldova\n"
     ]
    }
   ],
   "source": [
    "def city_country(city, country):\n",
    "    location = f\"{city.title()}, {country.title()}\"\n",
    "    return location\n",
    "\n",
    "destination = city_country('cordoba', 'spain')\n",
    "print(destination)\n",
    "\n",
    "destination = city_country('salamanco', 'spain')\n",
    "print(destination)\n",
    "\n",
    "destination = city_country('balti', 'moldova')\n",
    "print(destination)"
   ]
  },
  {
   "cell_type": "markdown",
   "metadata": {},
   "source": [
    "## Question 7\n",
    "**Album:** Write a function called `make_album()` that builds a dictionary describing a music album. The function should take in an artist name and an album title, and it should return a dictionary containing these two pieces of information. Use the function to make three dictionaries representing different albums. Print each return value to show that the dictionaries are storing the album information correctly.\n",
    "\n",
    "Use None to add an optional parameter to make_album() that allows you to store the number of songs on an album. If the calling line includes a value for the number of songs, add that value to the album’s dictionary. Make at least one new function call that includes the number of songs on an album."
   ]
  },
  {
   "cell_type": "code",
   "execution_count": 14,
   "metadata": {},
   "outputs": [
    {
     "name": "stdout",
     "output_type": "stream",
     "text": [
      "{'artist': 'carly rae jepsen', 'album': 'dedicated', '# of songs': 15}\n",
      "{'artist': 'frank ocean', 'album': 'blonde', '# of songs': 17}\n",
      "{'artist': 'lady gaga', 'album': 'joanne', '# of songs': 14}\n"
     ]
    }
   ],
   "source": [
    "def make_album(artist, album_title, num_songs=None):\n",
    "    album_bio = {'artist': artist, 'album': album_title}\n",
    "    if num_songs:\n",
    "        album_bio['# of songs'] = num_songs\n",
    "    return album_bio\n",
    "\n",
    "album = make_album('carly rae jepsen', 'dedicated', num_songs=15)\n",
    "print(album)\n",
    "\n",
    "album = make_album('frank ocean', 'blonde', num_songs=17)\n",
    "print(album)\n",
    "\n",
    "album = make_album('lady gaga', 'joanne', num_songs=14)\n",
    "print(album)"
   ]
  },
  {
   "cell_type": "markdown",
   "metadata": {},
   "source": [
    "## Question 8\n",
    "**User Albums:** Start with your program from Question 7. Write a `while` loop that allows users to enter an album’s artist and title. Once you have that information, call `make_album()` with the user’s input and print the dictionary that’s created. Be sure to include a quit value in the `while` loop."
   ]
  },
  {
   "cell_type": "code",
   "execution_count": null,
   "metadata": {},
   "outputs": [
    {
     "name": "stdout",
     "output_type": "stream",
     "text": [
      "Enter artist and album:\n",
      "(enter 'done' when complete)\n"
     ]
    }
   ],
   "source": [
    "def make_album(artist, album_title):\n",
    "    album_bio = {'artist': artist, 'album': album_title}\n",
    "    return album_bio\n",
    "\n",
    "while True:\n",
    "    print(\"Enter artist and album:\")\n",
    "    print(\"(enter 'done' when complete)\")\n",
    "    \n",
    "    name = input(\"Artist: \")\n",
    "    if name == 'done':\n",
    "        break\n",
    "        \n",
    "    album = input(\"Album: \")\n",
    "    if album == 'done':\n",
    "        break\n",
    "        \n",
    "    album_bio = make_album(name, album)\n",
    "    print(f\"You have entered the album and artist {album_bio}.\")"
   ]
  },
  {
   "cell_type": "markdown",
   "metadata": {},
   "source": [
    "## Question 9\n",
    "**Messages:** Make a list containing a series of short text messages. Pass the list to a function called `show_messages()`, which prints each text message."
   ]
  },
  {
   "cell_type": "code",
   "execution_count": 16,
   "metadata": {},
   "outputs": [
    {
     "name": "stdout",
     "output_type": "stream",
     "text": [
      "Welcome!\n",
      "Hello!\n",
      "How are you?\n"
     ]
    }
   ],
   "source": [
    "def print_msg(msgs):\n",
    "    for msg in msgs:\n",
    "        message = f\"{msg}\"\n",
    "        print(message)\n",
    "\n",
    "short_messages = [\"Welcome!\", \"Hello!\", \"How are you?\"]\n",
    "print_msg(short_messages)"
   ]
  },
  {
   "cell_type": "markdown",
   "metadata": {},
   "source": [
    "## Question 10\n",
    "**Sending Messages:** Start with a copy of your program from Question 9. Write a function called `send_messages()` that prints each text message and moves each message to a new list called `sent_messages` as it’s printed. After calling the function, print both of your lists to make sure the messages were moved correctly."
   ]
  },
  {
   "cell_type": "code",
   "execution_count": 23,
   "metadata": {},
   "outputs": [
    {
     "name": "stdout",
     "output_type": "stream",
     "text": [
      "Sending message: How are you?\n",
      "Sending message: Hello!\n",
      "Sending message: Welcome!\n",
      "\n",
      "The following messages have been sent:\n",
      "How are you?\n",
      "Hello!\n",
      "Welcome!\n"
     ]
    }
   ],
   "source": [
    "def send_messages(unsent_msgs, sent_msgs):\n",
    "    while unsent_msgs:\n",
    "        current_msg = unsent_msgs.pop()\n",
    "        print(f\"Sending message: {current_msg}\")\n",
    "        sent_msgs.append(current_msg)\n",
    "        \n",
    "def show_sent_msgs(sent_msgs):\n",
    "    print(\"\\nThe following messages have been sent:\")\n",
    "    for sent_msg in sent_msgs:\n",
    "        print(sent_msg)\n",
    "        \n",
    "unsent_msgs = [\"Welcome!\", \"Hello!\", \"How are you?\"]\n",
    "sent_msgs = []\n",
    "\n",
    "send_messages(unsent_msgs, sent_msgs)\n",
    "show_sent_msgs(sent_msgs)"
   ]
  },
  {
   "cell_type": "markdown",
   "metadata": {},
   "source": [
    "## Question 11\n",
    "**Archived Messages:** Start with your work from Question 10. Call the function `send_messages()` with a copy of the list of messages. After calling the function, print both of your lists to show that the original list has retained its messages."
   ]
  },
  {
   "cell_type": "code",
   "execution_count": 1,
   "metadata": {},
   "outputs": [
    {
     "name": "stdout",
     "output_type": "stream",
     "text": [
      "Sending message: How are you?\n",
      "Sending message: Hello!\n",
      "Sending message: Welcome!\n",
      "['Welcome!', 'Hello!', 'How are you?']\n",
      "['How are you?', 'Hello!', 'Welcome!']\n"
     ]
    }
   ],
   "source": [
    "def send_messages(unsent_msgs, sent_msgs):\n",
    "    \n",
    "    while unsent_msgs:\n",
    "        current_msg = unsent_msgs.pop()\n",
    "        print(f\"Sending message: {current_msg}\")\n",
    "        sent_msgs.append(current_msg)\n",
    "        \n",
    "def show_sent_msgs(sent_msgs):\n",
    "    print(\"\\nThe following messages have been sent:\")\n",
    "    for sent_msg in sent_msgs:\n",
    "        print(sent_msg)\n",
    "        \n",
    "unsent_msgs = [\"Welcome!\", \"Hello!\", \"How are you?\"]\n",
    "sent_msgs = []\n",
    "\n",
    "# send_messages(unsent_msgs, sent_msgs)\n",
    "# show_sent_msgs(sent_msgs)\n",
    "\n",
    "# print(f\"\\n{unsent_msgs}\")\n",
    "# print(sent_msgs)\n",
    "\n",
    "# The following lines are added by Dr. Wu\n",
    "send_messages(unsent_msgs[:], sent_msgs)\n",
    "print(unsent_msgs)\n",
    "print(sent_msgs)"
   ]
  },
  {
   "cell_type": "markdown",
   "metadata": {},
   "source": [
    "## Question 12\n",
    "**Sandwiches:** Write a function that accepts a list of items a person wants on a sandwich. The function should have one parameter that collects as many items as the function call provides, and it should print a summary of the sandwich that’s being ordered. Call the function three times, using a different number of arguments each time."
   ]
  },
  {
   "cell_type": "code",
   "execution_count": 25,
   "metadata": {},
   "outputs": [
    {
     "name": "stdout",
     "output_type": "stream",
     "text": [
      "('lettuce', 'tomato', 'bacon')\n",
      "('chicken', 'ranch')\n",
      "('salami',)\n"
     ]
    }
   ],
   "source": [
    "def make_sandwich(*items):\n",
    "    print(items)\n",
    "    \n",
    "make_sandwich('lettuce', 'tomato', 'bacon')\n",
    "make_sandwich('chicken', 'ranch')\n",
    "make_sandwich('salami')"
   ]
  },
  {
   "cell_type": "markdown",
   "metadata": {},
   "source": [
    "## Question 13\n",
    "**Cars:** Write a function that stores information about a car in a dictionary. The function should always receive a manufacturer and a model name. It should then accept an arbitrary number of keyword arguments. Call the function with the required information and two other name-value pairs, such as a color or an optional feature. Your function should work for a call like this one:\n",
    "```\n",
    "car = make_car('subaru', 'outback', color='blue', tow_package=True)\n",
    "```\n",
    "Print the dictionary that’s returned to make sure all the information was stored correctly."
   ]
  },
  {
   "cell_type": "code",
   "execution_count": 26,
   "metadata": {},
   "outputs": [
    {
     "name": "stdout",
     "output_type": "stream",
     "text": [
      "{'color': 'lime', 'bluetooth': True, 'make': 'honda', 'model': 'fit'}\n"
     ]
    }
   ],
   "source": [
    "def make_car(make, model, **other):\n",
    "    other['make'] = make\n",
    "    other['model'] = model\n",
    "    return other\n",
    "    \n",
    "car = make_car('honda', 'fit', \n",
    "               color='lime', \n",
    "               bluetooth=True)\n",
    "\n",
    "print(car)"
   ]
  },
  {
   "cell_type": "markdown",
   "metadata": {},
   "source": [
    "## Question 14\n",
    "**Restaurant:** Make a class called `Restaurant`. The `__init__()` method for `Restaurant` should store two attributes: a `restaurant_name` and a `cuisine_type`. Make a method called `describe_restaurant()` that prints these two pieces of information, and a method called `open_restaurant()` that prints a message indicating that the restaurant is open.\n",
    "\n",
    "Make an instance called `restaurant` from your class. Print the two attributes individually, and then call both methods."
   ]
  },
  {
   "cell_type": "code",
   "execution_count": 27,
   "metadata": {},
   "outputs": [
    {
     "name": "stdout",
     "output_type": "stream",
     "text": [
      "Tomato Head serves pizza.\n",
      "Tomato Head is now open!\n"
     ]
    }
   ],
   "source": [
    "class Restaurant:\n",
    "    \n",
    "    def __init__(self, name, cuisine):\n",
    "        self.name = name\n",
    "        self.cuisine = cuisine\n",
    "        \n",
    "    def describe_restaurant(self):\n",
    "        print(f\"{self.name} serves {self.cuisine}.\")\n",
    "        \n",
    "    def open_restaurant(self):\n",
    "        print(f\"{self.name} is now open!\")\n",
    "\n",
    "restaurant = Restaurant('Tomato Head', 'pizza')\n",
    "restaurant.describe_restaurant()\n",
    "restaurant.open_restaurant()"
   ]
  },
  {
   "cell_type": "markdown",
   "metadata": {},
   "source": [
    "## Question 15\n",
    "**Three Restaurants:** Start with your class from Question 14. Create three different instances from the class, and call `describe_restaurant()` for each instance."
   ]
  },
  {
   "cell_type": "code",
   "execution_count": 28,
   "metadata": {},
   "outputs": [
    {
     "name": "stdout",
     "output_type": "stream",
     "text": [
      "Applebees serves American  food.\n",
      "Starbucks serves drinks.\n",
      "DGB serves pub food.\n"
     ]
    }
   ],
   "source": [
    "restaurant = Restaurant('Applebees', 'American  food')\n",
    "restaurant.describe_restaurant()\n",
    "\n",
    "restaurant = Restaurant('Starbucks', 'drinks')\n",
    "restaurant.describe_restaurant()\n",
    "\n",
    "restaurant = Restaurant('DGB', 'pub food')\n",
    "restaurant.describe_restaurant()"
   ]
  },
  {
   "cell_type": "markdown",
   "metadata": {},
   "source": [
    "## Question 16\n",
    "**Users:** Make a class called `User`. Create two attributes called `first_name` and `last_name`, and then create several other attributes that are typically stored in a user profile. Make a method called `describe_user()` that prints a summary of the user’s information. Make another method called `greet_user()` that prints a personalized greeting to the user.\n",
    "\n",
    "Create several instances representing different users, and call both methods for each user."
   ]
  },
  {
   "cell_type": "code",
   "execution_count": 29,
   "metadata": {},
   "outputs": [
    {
     "name": "stdout",
     "output_type": "stream",
     "text": [
      "User info: Emma Jones\n",
      "Welcome, Emma Jones!\n"
     ]
    }
   ],
   "source": [
    "class User:\n",
    "    \n",
    "    def __init__(self, first_name, last_name):\n",
    "        self.first_name = first_name\n",
    "        self.last_name = last_name\n",
    "        \n",
    "    def describe_user(self):\n",
    "        print(f\"User info: {self.first_name.title()} {self.last_name.title()}\")\n",
    "        \n",
    "    def greet_user(self):\n",
    "        print(f\"Welcome, {self.first_name.title()} {self.last_name.title()}!\")\n",
    "\n",
    "user = User('emma', 'jones')\n",
    "user.describe_user()\n",
    "user.greet_user()\n",
    "    "
   ]
  },
  {
   "cell_type": "markdown",
   "metadata": {},
   "source": [
    "## Question 17\n",
    "**Number Served:** Start with your program from Question 14. Add an attribute called `number_served` with a default value of 0. Create an instance called `restaurant` from this class. Print the number of customers the restaurant has served, and then change this value and print it again.\n",
    "\n",
    "Add a method called `set_number_served()` that lets you set the number of customers that have been served. Call this method with a new number and print the value again.\n",
    "\n",
    "Add a method called `increment_number_served()` that lets you increment the number of customers who’ve been served.\n",
    "\n",
    "Call this method with any number you like that could represent how many customers were served in, say, a day of business."
   ]
  },
  {
   "cell_type": "code",
   "execution_count": 30,
   "metadata": {},
   "outputs": [
    {
     "name": "stdout",
     "output_type": "stream",
     "text": [
      "20 customers served!\n"
     ]
    }
   ],
   "source": [
    "class Restaurant:\n",
    "    \n",
    "    def __init__(self, name, cuisine, number_served):\n",
    "        self.name = name\n",
    "        self.cuisine = cuisine\n",
    "        self.number_served = 0\n",
    "        \n",
    "    def set_number_served(self):\n",
    "        print(f\"{self.number_served} customers served!\")\n",
    "        \n",
    "    def increment_number_served(self, customers):\n",
    "        if customers >= self.number_served:\n",
    "            self.number_served = customers\n",
    "\n",
    "restaurant = Restaurant('Tomato Head', 'pizza', 5)\n",
    "\n",
    "restaurant.increment_number_served(20)\n",
    "restaurant.set_number_served()"
   ]
  },
  {
   "cell_type": "markdown",
   "metadata": {},
   "source": [
    "## Question 18\n",
    "**Login Attempts:** Add an attribute called login_attempts to your User class from Question 16. Write a method called `increment_login_attempts()` that increments the value of `login_attempts` by 1. Write another method called `reset_login_attempts()` that resets the value of login_attempts to 0.\n",
    "\n",
    "Make an instance of the `User` class and call `increment_login_attempts()` several times. Print the value of `login_attempts` to make sure it was incremented properly, and then call `reset_login_attempts()`. Print `login_attempts` again to make sure it was reset to 0."
   ]
  },
  {
   "cell_type": "code",
   "execution_count": 31,
   "metadata": {},
   "outputs": [],
   "source": [
    "class User:\n",
    "      \n",
    "    login_attempts = 0\n",
    "    \n",
    "    def __init__(self, login_attempts=0):\n",
    "        self.login_attempts = login_attempts    \n",
    "   \n",
    "    def increment_login_attempts(self):\n",
    "        self.login_attempts += 1\n",
    "        \n",
    "    def reset_login_attempts(self):\n",
    "#         self.login_attempts -= 1\n",
    "        self.login_attempts = 0  # This line was added by Dr. Wu"
   ]
  },
  {
   "cell_type": "code",
   "execution_count": 32,
   "metadata": {},
   "outputs": [
    {
     "data": {
      "text/plain": [
       "1"
      ]
     },
     "execution_count": 32,
     "metadata": {},
     "output_type": "execute_result"
    }
   ],
   "source": [
    "user = User(0)\n",
    "\n",
    "user.increment_login_attempts()\n",
    "user.login_attempts"
   ]
  },
  {
   "cell_type": "code",
   "execution_count": 33,
   "metadata": {},
   "outputs": [
    {
     "data": {
      "text/plain": [
       "0"
      ]
     },
     "execution_count": 33,
     "metadata": {},
     "output_type": "execute_result"
    }
   ],
   "source": [
    "user.reset_login_attempts()\n",
    "user.login_attempts"
   ]
  },
  {
   "cell_type": "markdown",
   "metadata": {},
   "source": [
    "## Question 19\n",
    "**Dice:** Make a class `Die` with one attribute called `sides`, which has a default value of 6. Write a method called `roll_die()` that prints a random number between 1 and the number of sides the die has. Make a 6-sided die and roll it 10 times.\n",
    "\n",
    "Make a 10-sided die and a 20-sided die. Roll each die 10 times."
   ]
  },
  {
   "cell_type": "code",
   "execution_count": 34,
   "metadata": {},
   "outputs": [
    {
     "name": "stdout",
     "output_type": "stream",
     "text": [
      "3\n",
      "4\n",
      "6\n",
      "3\n",
      "3\n",
      "1\n",
      "3\n",
      "2\n",
      "2\n",
      "2\n"
     ]
    }
   ],
   "source": [
    "from random import randint\n",
    "\n",
    "class Die():\n",
    "    def __init__(self, sides = 6):\n",
    "        self.sides = sides\n",
    "\n",
    "    def die_roll(self):\n",
    "        print(randint(1, self.sides))\n",
    "        \n",
    "for die in range(10):\n",
    "        die = Die()\n",
    "        die.die_roll()"
   ]
  },
  {
   "cell_type": "code",
   "execution_count": 35,
   "metadata": {},
   "outputs": [
    {
     "name": "stdout",
     "output_type": "stream",
     "text": [
      "10\n",
      "9\n",
      "8\n",
      "9\n",
      "6\n",
      "10\n",
      "1\n",
      "6\n",
      "9\n",
      "8\n"
     ]
    }
   ],
   "source": [
    "from random import randint\n",
    "\n",
    "class Die():\n",
    "    def __init__(self, sides = 10):\n",
    "        self.sides = sides\n",
    "\n",
    "    def die_roll(self):\n",
    "        print(randint(1, self.sides))\n",
    "        \n",
    "for die in range(10):\n",
    "        die = Die()\n",
    "        die.die_roll()"
   ]
  },
  {
   "cell_type": "code",
   "execution_count": 36,
   "metadata": {},
   "outputs": [
    {
     "name": "stdout",
     "output_type": "stream",
     "text": [
      "14\n",
      "10\n",
      "9\n",
      "8\n",
      "5\n",
      "13\n",
      "4\n",
      "4\n",
      "14\n",
      "15\n"
     ]
    }
   ],
   "source": [
    "from random import randint\n",
    "\n",
    "class Die():\n",
    "    def __init__(self, sides = 20):\n",
    "        self.sides = sides\n",
    "\n",
    "    def die_roll(self):\n",
    "        print(randint(1, self.sides))\n",
    "        \n",
    "for die in range(10):\n",
    "        die = Die()\n",
    "        die.die_roll()"
   ]
  },
  {
   "cell_type": "markdown",
   "metadata": {},
   "source": [
    "## Question 20\n",
    "**Lottery:** Make a list or tuple containing a series of 10 numbers and five letters. Randomly select four numbers or letters from the list and print a message saying that any ticket matching these four numbers or letters wins a prize.\n",
    "\n",
    "You can use a loop to see how hard it might be to win the kind of lottery you just modeled. Make a list or tuple called `my_ticket`. Write a loop that keeps pulling numbers until your ticket wins. Print a message reporting how many times the loop had to run to give you a winning ticket."
   ]
  },
  {
   "cell_type": "code",
   "execution_count": null,
   "metadata": {},
   "outputs": [],
   "source": [
    "from random import choice\n",
    "lottery = [1, 2, 3, 4, 5, 6, 7, 8, 9, 0, 'a', 'e', 'i', 'o', 'u']\n",
    "\n",
    "\n",
    "# my_ticket = input(\"Please enter 4 characters:\")\n",
    "    \n",
    "# lotto = choice(lottery), choice(lottery), choice(lottery), choice(lottery)\n",
    "# print(\"The winning lottery is: \", lotto)\n",
    "\n",
    "# if my_ticket == lotto:\n",
    "#     print(\"You win!\")Q20: -1\n",
    "# else:\n",
    "#     print(\"Try again!\")\n"
   ]
  },
  {
   "cell_type": "code",
   "execution_count": 8,
   "metadata": {},
   "outputs": [
    {
     "name": "stdout",
     "output_type": "stream",
     "text": [
      "The secket is: 6i55\n",
      "Please enter your ticket: (enter quit to end the program)adsf\n",
      "Please enter your ticket: (enter quit to end the program)dfg\n",
      "Please enter your ticket: (enter quit to end the program)rtr\n",
      "Please enter your ticket: (enter quit to end the program)sdfg\n",
      "Please enter your ticket: (enter quit to end the program)sfgf\n",
      "Please enter your ticket: (enter quit to end the program)ere\n",
      "Please enter your ticket: (enter quit to end the program)6i55\n",
      "You win!\n"
     ]
    }
   ],
   "source": [
    "# The following lines are added by Dr. Wu\n",
    "from random import choice\n",
    "lottery = ['1', '2', '3', '4', '5', '6', '7', '8', '9', '0', 'a', 'e', 'i', 'o', 'u']\n",
    "secret = ''\n",
    "for i in range(1, 5):\n",
    "    secret += choice(lottery)\n",
    "print(f\"The secket is: {secret}\")\n",
    "\n",
    "while True:\n",
    "    ticket = input(\"Please enter your ticket: (enter quit to end the program)\")\n",
    "    if ticket == 'quit':\n",
    "        break\n",
    "    elif ticket == secret:\n",
    "        print(\"You win!\")\n",
    "        break\n",
    "    else: \n",
    "        continue    "
   ]
  },
  {
   "cell_type": "code",
   "execution_count": 11,
   "metadata": {},
   "outputs": [
    {
     "name": "stdout",
     "output_type": "stream",
     "text": [
      "The secket is: 395u\n",
      "Please enter your ticket: (enter quit to end the program)dfdfd\n",
      "Please enter your ticket: (enter quit to end the program)fgr\n",
      "Please enter your ticket: (enter quit to end the program)cvd\n",
      "Please enter your ticket: (enter quit to end the program)395u\n",
      "You win!\n"
     ]
    }
   ],
   "source": [
    "# Solution 2\n",
    "# The following lines are added by Dr. Wu\n",
    "import random\n",
    "from random import choice\n",
    "lottery = ['1', '2', '3', '4', '5', '6', '7', '8', '9', '0', 'a', 'e', 'i', 'o', 'u']\n",
    "\n",
    "random.shuffle(lottery)\n",
    "secret =\"\".join(lottery[:4])\n",
    "print(f\"The secket is: {secret}\")\n",
    "\n",
    "while True:\n",
    "    ticket = input(\"Please enter your ticket: (enter quit to end the program)\")\n",
    "    if ticket == 'quit':\n",
    "        break\n",
    "    elif ticket == secret:\n",
    "        print(\"You win!\")\n",
    "        break\n",
    "    else: \n",
    "        continue "
   ]
  }
 ],
 "metadata": {
  "kernelspec": {
   "display_name": "Python 3",
   "language": "python",
   "name": "python3"
  },
  "language_info": {
   "codemirror_mode": {
    "name": "ipython",
    "version": 3
   },
   "file_extension": ".py",
   "mimetype": "text/x-python",
   "name": "python",
   "nbconvert_exporter": "python",
   "pygments_lexer": "ipython3",
   "version": "3.7.4"
  }
 },
 "nbformat": 4,
 "nbformat_minor": 2
}
